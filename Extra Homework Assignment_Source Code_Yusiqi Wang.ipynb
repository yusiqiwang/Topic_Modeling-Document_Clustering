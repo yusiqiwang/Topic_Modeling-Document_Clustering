{
 "cells": [
  {
   "cell_type": "code",
   "execution_count": 2,
   "metadata": {},
   "outputs": [],
   "source": [
    "import pandas as pd\n",
    "import os\n",
    "import nltk\n",
    "from nltk.corpus import stopwords\n",
    "import ast\n",
    "import itertools\n",
    "from gensim import corpora, models\n",
    "import re\n",
    "import math"
   ]
  },
  {
   "cell_type": "markdown",
   "metadata": {},
   "source": [
    "# Data Preprocessing"
   ]
  },
  {
   "cell_type": "markdown",
   "metadata": {},
   "source": [
    "### Put file name into list"
   ]
  },
  {
   "cell_type": "code",
   "execution_count": 9,
   "metadata": {},
   "outputs": [],
   "source": [
    "#Get name of documents in each quarter\n",
    "\n",
    "all_files2013 = []\n",
    "all_files2014 = []\n",
    "\n",
    "for filename in os.listdir('./2013'):\n",
    "    all_files2013.append('./2013/'+filename)\n",
    "    \n",
    "for filename in os.listdir('./2014'):\n",
    "    all_files2014.append('./2014/'+filename)"
   ]
  },
  {
   "cell_type": "markdown",
   "metadata": {},
   "source": [
    "### Put quarterly documents in one file and Read"
   ]
  },
  {
   "cell_type": "code",
   "execution_count": 10,
   "metadata": {},
   "outputs": [],
   "source": [
    "file2013_q1 = all_files2013[0:90]\n",
    "file2013_q2 = all_files2013[91:181]\n",
    "file2013_q3 = all_files2013[182:273]\n",
    "file2013_q4 = all_files2013[274:365]\n",
    "file2014_q1 = all_files2014[0:90]\n",
    "file2014_q2 = all_files2014[91:181]\n",
    "file2014_q3 = all_files2014[182:273]\n",
    "file2014_q4 = all_files2014[274:365]"
   ]
  },
  {
   "cell_type": "code",
   "execution_count": 1193,
   "metadata": {},
   "outputs": [],
   "source": [
    "#write the readlines into the txt\n",
    "\n",
    "def get_quater (namelist,name):\n",
    "    dicts = []\n",
    "    for i , file in enumerate(namelist):\n",
    "        #print (file)\n",
    "        with open(file,encoding='utf-8',errors='ignore') as f:\n",
    "            articles = []\n",
    "            for article in f:\n",
    "                article = nltk.sent_tokenize(article)\n",
    "                articles.append(article)\n",
    "                #print (articles)\n",
    "        dicts.append(articles)\n",
    "    #print (dicts[0])\n",
    "    with open(name,'w',encoding='utf-8') as q:\n",
    "        q.write(str(dicts))"
   ]
  },
  {
   "cell_type": "code",
   "execution_count": 5,
   "metadata": {},
   "outputs": [],
   "source": [
    "get_quater(file2013_q1,'2013q1.txt') "
   ]
  },
  {
   "cell_type": "code",
   "execution_count": 6,
   "metadata": {},
   "outputs": [],
   "source": [
    "get_quater(file2013_q2,'2013q2.txt')"
   ]
  },
  {
   "cell_type": "code",
   "execution_count": 7,
   "metadata": {},
   "outputs": [],
   "source": [
    "get_quater(file2013_q3,'2013q3.txt')"
   ]
  },
  {
   "cell_type": "code",
   "execution_count": 8,
   "metadata": {},
   "outputs": [],
   "source": [
    "get_quater(file2013_q4,'2013q4.txt')"
   ]
  },
  {
   "cell_type": "code",
   "execution_count": 9,
   "metadata": {},
   "outputs": [],
   "source": [
    "get_quater(file2014_q1,'2014q1.txt')"
   ]
  },
  {
   "cell_type": "code",
   "execution_count": 10,
   "metadata": {},
   "outputs": [],
   "source": [
    "get_quater(file2014_q2,'2014q2.txt')"
   ]
  },
  {
   "cell_type": "code",
   "execution_count": 11,
   "metadata": {},
   "outputs": [],
   "source": [
    "get_quater(file2014_q3,'2014q3.txt')"
   ]
  },
  {
   "cell_type": "code",
   "execution_count": 12,
   "metadata": {},
   "outputs": [],
   "source": [
    "get_quater(file2014_q4,'2014q4.txt')"
   ]
  },
  {
   "cell_type": "code",
   "execution_count": 15,
   "metadata": {},
   "outputs": [],
   "source": [
    "#read articles from txt\n",
    "\n",
    "def read_articles(filename):\n",
    "    with open(filename , 'r' ,encoding='utf-8' ,errors='ignore') as a:\n",
    "        corpus = ast.literal_eval(a.read())\n",
    "    corpus = list(itertools.chain(*corpus))\n",
    "    \n",
    "    return corpus"
   ]
  },
  {
   "cell_type": "code",
   "execution_count": 16,
   "metadata": {},
   "outputs": [],
   "source": [
    "q1_2013 = read_articles('2013q1.txt')"
   ]
  },
  {
   "cell_type": "code",
   "execution_count": 17,
   "metadata": {},
   "outputs": [],
   "source": [
    "q2_2013 = read_articles('2013q2.txt')"
   ]
  },
  {
   "cell_type": "code",
   "execution_count": 18,
   "metadata": {},
   "outputs": [],
   "source": [
    "q3_2013 = read_articles('2013q3.txt')"
   ]
  },
  {
   "cell_type": "code",
   "execution_count": 19,
   "metadata": {},
   "outputs": [],
   "source": [
    "q4_2013 = read_articles('2013q4.txt')"
   ]
  },
  {
   "cell_type": "code",
   "execution_count": 20,
   "metadata": {},
   "outputs": [],
   "source": [
    "q1_2014 = read_articles('2014q1.txt')"
   ]
  },
  {
   "cell_type": "code",
   "execution_count": 21,
   "metadata": {},
   "outputs": [],
   "source": [
    "q2_2014 = read_articles('2014q2.txt')"
   ]
  },
  {
   "cell_type": "code",
   "execution_count": 22,
   "metadata": {},
   "outputs": [],
   "source": [
    "q3_2014 = read_articles('2014q3.txt')"
   ]
  },
  {
   "cell_type": "code",
   "execution_count": 23,
   "metadata": {},
   "outputs": [],
   "source": [
    "q4_2014 = read_articles('2014q4.txt')"
   ]
  },
  {
   "cell_type": "code",
   "execution_count": 307,
   "metadata": {},
   "outputs": [],
   "source": [
    "all_articles = read_articles('all_articles.txt')"
   ]
  },
  {
   "cell_type": "markdown",
   "metadata": {},
   "source": [
    "### Word tokenize and Remove stopwords"
   ]
  },
  {
   "cell_type": "code",
   "execution_count": 15,
   "metadata": {},
   "outputs": [],
   "source": [
    "def get_words (articles):\n",
    "    word_list = []\n",
    "    for i in range(len(articles)):\n",
    "        words = nltk.word_tokenize(re.sub('\\W+', ' ',str(articles[i])).replace(\"_\",' ').lower())\n",
    "        stop_words = stopwords.words(\"english\")\n",
    "        #remove stopwords\n",
    "        result = [word for word in words if word not in stop_words]\n",
    "        word_list.append(result)\n",
    "    return word_list"
   ]
  },
  {
   "cell_type": "code",
   "execution_count": 25,
   "metadata": {},
   "outputs": [],
   "source": [
    "w1_2013 = get_words(q1_2013)"
   ]
  },
  {
   "cell_type": "code",
   "execution_count": 26,
   "metadata": {},
   "outputs": [],
   "source": [
    "w2_2013 = get_words(q2_2013)"
   ]
  },
  {
   "cell_type": "code",
   "execution_count": 27,
   "metadata": {},
   "outputs": [],
   "source": [
    "w3_2013 = get_words(q3_2013)"
   ]
  },
  {
   "cell_type": "code",
   "execution_count": 28,
   "metadata": {},
   "outputs": [],
   "source": [
    "w4_2013 = get_words(q4_2013)"
   ]
  },
  {
   "cell_type": "code",
   "execution_count": 29,
   "metadata": {},
   "outputs": [],
   "source": [
    "w1_2014 = get_words(q1_2014)"
   ]
  },
  {
   "cell_type": "code",
   "execution_count": 30,
   "metadata": {},
   "outputs": [],
   "source": [
    "w2_2014 = get_words(q2_2014)"
   ]
  },
  {
   "cell_type": "code",
   "execution_count": 31,
   "metadata": {},
   "outputs": [],
   "source": [
    "w3_2014 = get_words(q3_2014)"
   ]
  },
  {
   "cell_type": "code",
   "execution_count": 32,
   "metadata": {},
   "outputs": [],
   "source": [
    "w4_2014 = get_words(q4_2014)"
   ]
  },
  {
   "cell_type": "code",
   "execution_count": 308,
   "metadata": {},
   "outputs": [],
   "source": [
    "wall_articles = get_words(all_articles)"
   ]
  },
  {
   "cell_type": "markdown",
   "metadata": {},
   "source": [
    "# LDA Model Implementation"
   ]
  },
  {
   "cell_type": "markdown",
   "metadata": {},
   "source": [
    "### Data Transformation: Corpus and Dictionary"
   ]
  },
  {
   "cell_type": "code",
   "execution_count": 33,
   "metadata": {},
   "outputs": [],
   "source": [
    "def get_dict(word_list):\n",
    "    dictionary = corpora.Dictionary(word_list)\n",
    "    corpus = [dictionary.doc2bow(words) for words in word_list]\n",
    "    return corpus,dictionary"
   ]
  },
  {
   "cell_type": "code",
   "execution_count": 34,
   "metadata": {},
   "outputs": [],
   "source": [
    "dict1_2013 , dictionary_2013q1 = get_dict(w1_2013)"
   ]
  },
  {
   "cell_type": "code",
   "execution_count": 35,
   "metadata": {},
   "outputs": [],
   "source": [
    "dict2_2013 , dictionary_2013q2 = get_dict(w2_2013)"
   ]
  },
  {
   "cell_type": "code",
   "execution_count": 36,
   "metadata": {},
   "outputs": [],
   "source": [
    "dict3_2013 , dictionary_2013q3 = get_dict(w3_2013)"
   ]
  },
  {
   "cell_type": "code",
   "execution_count": 37,
   "metadata": {},
   "outputs": [],
   "source": [
    "dict4_2013 , dictionary_2013q4 = get_dict(w4_2013)"
   ]
  },
  {
   "cell_type": "code",
   "execution_count": 38,
   "metadata": {},
   "outputs": [],
   "source": [
    "dict1_2014 , dictionary_2014q1 = get_dict(w1_2014)"
   ]
  },
  {
   "cell_type": "code",
   "execution_count": 39,
   "metadata": {},
   "outputs": [],
   "source": [
    "dict2_2014 , dictionary_2014q2 = get_dict(w2_2014)"
   ]
  },
  {
   "cell_type": "code",
   "execution_count": 40,
   "metadata": {},
   "outputs": [],
   "source": [
    "dict3_2014 , dictionary_2014q3 = get_dict(w3_2014)"
   ]
  },
  {
   "cell_type": "code",
   "execution_count": 41,
   "metadata": {},
   "outputs": [],
   "source": [
    "dict4_2014 , dictionary_2014q4 = get_dict(w4_2014)"
   ]
  },
  {
   "cell_type": "code",
   "execution_count": 310,
   "metadata": {},
   "outputs": [],
   "source": [
    "dictall,dictionary_all = get_dict(wall_articles)"
   ]
  },
  {
   "cell_type": "markdown",
   "metadata": {},
   "source": [
    "### Validation set and Train set"
   ]
  },
  {
   "cell_type": "code",
   "execution_count": 589,
   "metadata": {},
   "outputs": [],
   "source": [
    "#define validation set and train set\n",
    "\n",
    "train_set = w1_2013[0:3000].copy()\n",
    "validation_set = w1_2013[3001:4819].copy()"
   ]
  },
  {
   "cell_type": "code",
   "execution_count": 591,
   "metadata": {},
   "outputs": [
    {
     "data": {
      "text/plain": [
       "1818"
      ]
     },
     "execution_count": 591,
     "metadata": {},
     "output_type": "execute_result"
    }
   ],
   "source": [
    "len(validation_set)"
   ]
  },
  {
   "cell_type": "code",
   "execution_count": 592,
   "metadata": {},
   "outputs": [],
   "source": [
    "#create dictionary for validation set and train set\n",
    "\n",
    "train_dict ,dictionary_train = get_dict(train_set)"
   ]
  },
  {
   "cell_type": "code",
   "execution_count": 593,
   "metadata": {},
   "outputs": [],
   "source": [
    "validation_dict , dictionary_validation = get_dict(validation_set)"
   ]
  },
  {
   "cell_type": "markdown",
   "metadata": {},
   "source": [
    "### Build LDA Model"
   ]
  },
  {
   "cell_type": "code",
   "execution_count": 608,
   "metadata": {},
   "outputs": [],
   "source": [
    "#calculate perplexity for different numbers of topics\n",
    "def perplexity(num_topic,dict_ ,dictionary_):\n",
    "    lda_train = models.ldamodel.LdaModel(corpus=dict_ , id2word = dictionary_ ,num_topics=num_topic)\n",
    "    topict_list = []\n",
    "    for topic in lda_train.print_topics(num_topics=50):\n",
    "        topict_list.append(topic)\n",
    "    aaa= []\n",
    "    aaaa = []\n",
    "    for i in range(len(topict_list)):\n",
    "        aa = nltk.word_tokenize(re.sub('\\W+', ' ',str(topict_list[i])).replace(\"_\",' ').lower())\n",
    "        for i in range(len(aa)):\n",
    "            aaab = re.findall(r'[a-z]+' , aa[i])\n",
    "            aaa.append(aaab)\n",
    "        #print (aaa)\n",
    "    for j in range (len(aaa)):\n",
    "        if aaa[j] !=[]:\n",
    "            #rint (aaa[j])\n",
    "            aaaa.append(aaa[j])\n",
    "    topic_word_list = []\n",
    "    for i in range(len(aaaa)):\n",
    "        #print (str(aaaa[i])+str(i))\n",
    "        for letter in aaaa[i]:\n",
    "            letter = re.sub('\\W+', ' ',str(letter).replace(\"_\",' '))\n",
    "            topic_word_list.append(letter)\n",
    "            \n",
    "            \n",
    "    freq = []\n",
    "    letter_list = []\n",
    "    for i in range(len(topic_word_list)):\n",
    "        if topic_word_list[i] not in letter_list:\n",
    "            #print(topic_word_list[i])\n",
    "            letter_list.append(topic_word_list[i])\n",
    "            for j in range(len(dictionary_2013q1)):\n",
    "                if dictionary_2013q1[j] == topic_word_list[i]:\n",
    "                        freq.append(j)\n",
    "    #print (freq)\n",
    "    \n",
    "    a =0.0\n",
    "    for each in freq:\n",
    "        if each != None:\n",
    "            a+=float(each)\n",
    "        else:\n",
    "            pass\n",
    "    #print (a)\n",
    "    duishu = -math.log(a)\n",
    "    kuohaoli = duishu/len(dictionary_2013q1)\n",
    "    perp = math.exp(kuohaoli)\n",
    "    #print (perp) \n",
    "    return (perp)"
   ]
  },
  {
   "cell_type": "code",
   "execution_count": 316,
   "metadata": {},
   "outputs": [],
   "source": [
    "def garph_draw(num_topic , perp):\n",
    "    x = num_topic\n",
    "    y = perp\n",
    "    plt.plot(x , y , color = 'red' ,linewidth = 2)\n",
    "    plt.xlabel(\"num_topic\")\n",
    "    plt.ylabel(\"perp\")\n",
    "    plt.show()"
   ]
  },
  {
   "cell_type": "code",
   "execution_count": 609,
   "metadata": {},
   "outputs": [],
   "source": [
    "result_list = []\n",
    "for i in range(1,20):\n",
    "    perp = perplexity(i,train_dict,dictionary_train)\n",
    "    result_list.append(str(i)+':'+str(perp))"
   ]
  },
  {
   "cell_type": "code",
   "execution_count": 3,
   "metadata": {},
   "outputs": [],
   "source": [
    "import matplotlib.pyplot as plt"
   ]
  },
  {
   "cell_type": "code",
   "execution_count": 610,
   "metadata": {},
   "outputs": [],
   "source": [
    "#deal with perp's result\n",
    "topic2 = []\n",
    "for i in range(1,20):\n",
    "    topic2.append(i)"
   ]
  },
  {
   "cell_type": "code",
   "execution_count": 611,
   "metadata": {},
   "outputs": [],
   "source": [
    "#deal with perp's result\n",
    "perp_list1 = []\n",
    "for i in range(len(result_list)):\n",
    "    if i < 10 :\n",
    "        perp_list1.append(float(result_list[i][3:]))\n",
    "    else :\n",
    "        perp_list1.append(float(result_list[i][3:]))"
   ]
  },
  {
   "cell_type": "code",
   "execution_count": 612,
   "metadata": {},
   "outputs": [
    {
     "data": {
      "image/png": "[encoded data removed]",
      "text/plain": [
       "<Figure size 432x288 with 1 Axes>"
      ]
     },
     "metadata": {
      "needs_background": "light"
     },
     "output_type": "display_data"
    }
   ],
   "source": [
    "#Line digram for the relationship between perplexity and numbers of topics \n",
    "#in Train set\n",
    "garph_draw(topic2,perp_list1)"
   ]
  },
  {
   "cell_type": "code",
   "execution_count": 613,
   "metadata": {},
   "outputs": [],
   "source": [
    "#num_topic= 14\n",
    "#in Validation set\n",
    "result_validation = []\n",
    "perp = perplexity(14,validation_dict,dictionary_validation)\n",
    "result_validation.append(perp)"
   ]
  },
  {
   "cell_type": "code",
   "execution_count": 615,
   "metadata": {},
   "outputs": [],
   "source": [
    "#Test the accurcy about perp\n",
    "#Assume num_topic= 10\n",
    "result_validation1 = []\n",
    "perp = perplexity(10,validation_dict,dictionary_validation)\n",
    "result_validation1.append(perp)"
   ]
  },
  {
   "cell_type": "code",
   "execution_count": 616,
   "metadata": {},
   "outputs": [
    {
     "data": {
      "text/plain": [
       "[0.999774905431217]"
      ]
     },
     "execution_count": 616,
     "metadata": {},
     "output_type": "execute_result"
    }
   ],
   "source": [
    "result_validation1"
   ]
  },
  {
   "cell_type": "code",
   "execution_count": 614,
   "metadata": {},
   "outputs": [
    {
     "data": {
      "text/plain": [
       "[0.9997698381800496]"
      ]
     },
     "execution_count": 614,
     "metadata": {},
     "output_type": "execute_result"
    }
   ],
   "source": [
    "result_validation"
   ]
  },
  {
   "cell_type": "markdown",
   "metadata": {},
   "source": [
    "### Get LDA result when num_topic= 14 "
   ]
  },
  {
   "cell_type": "code",
   "execution_count": 617,
   "metadata": {},
   "outputs": [],
   "source": [
    "lda_2013q1 = models.ldamodel.LdaModel(corpus=dict1_2013 , id2word = dictionary_2013q1 ,num_topics=14)"
   ]
  },
  {
   "cell_type": "code",
   "execution_count": 618,
   "metadata": {},
   "outputs": [],
   "source": [
    "lda_2013q2 = models.ldamodel.LdaModel(corpus=dict2_2013 , id2word = dictionary_2013q2 ,num_topics=14)"
   ]
  },
  {
   "cell_type": "code",
   "execution_count": 619,
   "metadata": {},
   "outputs": [],
   "source": [
    "lda_2013q3 = models.ldamodel.LdaModel(corpus=dict3_2013 , id2word = dictionary_2013q3 ,num_topics=14)"
   ]
  },
  {
   "cell_type": "code",
   "execution_count": 620,
   "metadata": {},
   "outputs": [],
   "source": [
    "lda_2013q4 = models.ldamodel.LdaModel(corpus=dict4_2013 , id2word = dictionary_2013q4 ,num_topics=14)"
   ]
  },
  {
   "cell_type": "code",
   "execution_count": 621,
   "metadata": {},
   "outputs": [],
   "source": [
    "lda_2014q1 = models.ldamodel.LdaModel(corpus=dict1_2014 , id2word = dictionary_2014q1 ,num_topics=14)"
   ]
  },
  {
   "cell_type": "code",
   "execution_count": 622,
   "metadata": {},
   "outputs": [],
   "source": [
    "lda_2014q2 = models.ldamodel.LdaModel(corpus=dict2_2014 , id2word = dictionary_2014q2 ,num_topics=14)"
   ]
  },
  {
   "cell_type": "code",
   "execution_count": 623,
   "metadata": {},
   "outputs": [],
   "source": [
    "lda_2014q3 = models.ldamodel.LdaModel(corpus=dict3_2014 , id2word = dictionary_2014q3 ,num_topics=14)"
   ]
  },
  {
   "cell_type": "code",
   "execution_count": 624,
   "metadata": {},
   "outputs": [],
   "source": [
    "lda_2014q4 = models.ldamodel.LdaModel(corpus=dict4_2014 , id2word = dictionary_2014q4 ,num_topics=14)"
   ]
  },
  {
   "cell_type": "code",
   "execution_count": 625,
   "metadata": {},
   "outputs": [],
   "source": [
    "lda_all = models.ldamodel.LdaModel(corpus=dictall , id2word = dictionary_all ,num_topics=14)"
   ]
  },
  {
   "cell_type": "markdown",
   "metadata": {},
   "source": [
    "### Select Each Topic’s keywords"
   ]
  },
  {
   "cell_type": "markdown",
   "metadata": {},
   "source": [
    "### \"2013 Q1\"\n",
    "###### topic1 -----tax, topic2 -----stock ,topic3 -----china, topic4 -----percent, topic5 -----business,topic6 -----recession ,topic7 -----investors ,topic8 -----banks ,topic9 -----market ,topic10----economic ,topic11----bailout ,topic12----economy ,topic13----financial ,topic14----foreclosure "
   ]
  },
  {
   "cell_type": "code",
   "execution_count": 1177,
   "metadata": {},
   "outputs": [],
   "source": [
    "topic_list2013q1 = []\n",
    "for topic in lda_2013q1.print_topics(num_topics=17):\n",
    "    topic_list2013q1.append(topic)"
   ]
  },
  {
   "cell_type": "code",
   "execution_count": 1178,
   "metadata": {},
   "outputs": [
    {
     "data": {
      "text/plain": [
       "[(0,\n",
       "  '0.007*\"would\" + 0.006*\"said\" + 0.005*\"tax\" + 0.004*\"new\" + 0.004*\"1\" + 0.004*\"government\" + 0.003*\"one\" + 0.003*\"people\" + 0.003*\"years\" + 0.003*\"000\"'),\n",
       " (1,\n",
       "  '0.004*\"year\" + 0.004*\"market\" + 0.004*\"time\" + 0.004*\"stock\" + 0.004*\"one\" + 0.004*\"new\" + 0.003*\"said\" + 0.003*\"million\" + 0.003*\"apple\" + 0.003*\"company\"'),\n",
       " (2,\n",
       "  '0.070*\"u\" + 0.007*\"china\" + 0.005*\"said\" + 0.005*\"would\" + 0.004*\"one\" + 0.003*\"korea\" + 0.003*\"chinese\" + 0.003*\"people\" + 0.003*\"new\" + 0.003*\"year\"'),\n",
       " (3,\n",
       "  '0.028*\"percent\" + 0.010*\"0\" + 0.010*\"1\" + 0.009*\"year\" + 0.008*\"billion\" + 0.008*\"2\" + 0.007*\"3\" + 0.006*\"4\" + 0.006*\"6\" + 0.006*\"5\"'),\n",
       " (4,\n",
       "  '0.007*\"company\" + 0.005*\"new\" + 0.005*\"said\" + 0.005*\"one\" + 0.005*\"business\" + 0.004*\"investors\" + 0.004*\"also\" + 0.004*\"market\" + 0.004*\"year\" + 0.003*\"stock\"'),\n",
       " (5,\n",
       "  '0.007*\"year\" + 0.006*\"market\" + 0.005*\"recession\" + 0.004*\"chart\" + 0.004*\"time\" + 0.004*\"last\" + 0.004*\"growth\" + 0.004*\"since\" + 0.004*\"new\" + 0.003*\"lululemon\"'),\n",
       " (6,\n",
       "  '0.009*\"market\" + 0.007*\"year\" + 0.005*\"one\" + 0.005*\"new\" + 0.003*\"investors\" + 0.003*\"markets\" + 0.003*\"amp\" + 0.003*\"fed\" + 0.003*\"said\" + 0.003*\"also\"'),\n",
       " (7,\n",
       "  '0.007*\"banks\" + 0.007*\"euro\" + 0.006*\"bank\" + 0.005*\"2\" + 0.005*\"european\" + 0.005*\"percent\" + 0.005*\"year\" + 0.005*\"1\" + 0.004*\"europe\" + 0.004*\"rate\"'),\n",
       " (8,\n",
       "  '0.009*\"bank\" + 0.007*\"would\" + 0.007*\"banks\" + 0.006*\"market\" + 0.005*\"money\" + 0.005*\"one\" + 0.005*\"euro\" + 0.004*\"could\" + 0.004*\"said\" + 0.004*\"time\"'),\n",
       " (9,\n",
       "  '0.008*\"year\" + 0.007*\"economic\" + 0.006*\"market\" + 0.006*\"1\" + 0.006*\"0\" + 0.005*\"growth\" + 0.005*\"last\" + 0.005*\"us\" + 0.004*\"percent\" + 0.004*\"2\"'),\n",
       " (10,\n",
       "  '0.022*\"cyprus\" + 0.008*\"cypriot\" + 0.006*\"new\" + 0.005*\"would\" + 0.005*\"said\" + 0.004*\"percent\" + 0.004*\"year\" + 0.004*\"bailout\" + 0.004*\"russian\" + 0.003*\"last\"'),\n",
       " (11,\n",
       "  '0.006*\"spending\" + 0.006*\"economy\" + 0.006*\"us\" + 0.005*\"year\" + 0.005*\"oil\" + 0.004*\"market\" + 0.004*\"budget\" + 0.004*\"one\" + 0.004*\"growth\" + 0.004*\"deficit\"'),\n",
       " (12,\n",
       "  '0.011*\"xa0\" + 0.005*\"one\" + 0.004*\"new\" + 0.003*\"bank\" + 0.003*\"time\" + 0.003*\"committee\" + 0.003*\"would\" + 0.003*\"financial\" + 0.003*\"said\" + 0.002*\"federal\"'),\n",
       " (13,\n",
       "  '0.007*\"people\" + 0.005*\"said\" + 0.005*\"one\" + 0.004*\"year\" + 0.004*\"time\" + 0.004*\"foreclosure\" + 0.004*\"would\" + 0.004*\"street\" + 0.004*\"new\" + 0.003*\"get\"')]"
      ]
     },
     "execution_count": 1178,
     "metadata": {},
     "output_type": "execute_result"
    }
   ],
   "source": [
    "#get keywords for topic_list2013q1 according to content\n",
    "topic_list2013q1"
   ]
  },
  {
   "cell_type": "markdown",
   "metadata": {},
   "source": [
    "### \"2013 Q2\""
   ]
  },
  {
   "cell_type": "markdown",
   "metadata": {},
   "source": [
    "##### 1-gold,2-bank,3-policy,4-financial,5-company,6-obama,7-business,8-fed,9-bitcoin,10-fund,11-percent,12-market,13-investment,14-china"
   ]
  },
  {
   "cell_type": "code",
   "execution_count": 1179,
   "metadata": {},
   "outputs": [],
   "source": [
    "topic_list2013q2 = []\n",
    "for topic in lda_2013q2.print_topics(num_topics=17):\n",
    "    topic_list2013q2.append(topic)"
   ]
  },
  {
   "cell_type": "code",
   "execution_count": 1180,
   "metadata": {
    "scrolled": true
   },
   "outputs": [
    {
     "data": {
      "text/plain": [
       "[(0,\n",
       "  '0.004*\"year\" + 0.004*\"said\" + 0.004*\"new\" + 0.003*\"people\" + 0.003*\"greenlight\" + 0.003*\"also\" + 0.003*\"einhorn\" + 0.003*\"percent\" + 0.003*\"gold\" + 0.002*\"market\"'),\n",
       " (1,\n",
       "  '0.009*\"said\" + 0.006*\"one\" + 0.004*\"would\" + 0.004*\"also\" + 0.004*\"time\" + 0.003*\"year\" + 0.003*\"two\" + 0.003*\"u\" + 0.003*\"people\" + 0.003*\"bank\"'),\n",
       " (2,\n",
       "  '0.016*\"gold\" + 0.009*\"said\" + 0.007*\"inflation\" + 0.006*\"policy\" + 0.006*\"fed\" + 0.005*\"prices\" + 0.005*\"market\" + 0.004*\"would\" + 0.004*\"rate\" + 0.004*\"monetary\"'),\n",
       " (3,\n",
       "  '0.006*\"market\" + 0.006*\"said\" + 0.005*\"people\" + 0.005*\"north\" + 0.004*\"year\" + 0.004*\"years\" + 0.004*\"time\" + 0.004*\"one\" + 0.003*\"money\" + 0.003*\"world\"'),\n",
       " (4,\n",
       "  '0.006*\"said\" + 0.006*\"bank\" + 0.006*\"one\" + 0.005*\"would\" + 0.005*\"company\" + 0.004*\"get\" + 0.003*\"world\" + 0.003*\"could\" + 0.003*\"financial\" + 0.003*\"people\"'),\n",
       " (5,\n",
       "  '0.009*\"said\" + 0.007*\"obama\" + 0.007*\"would\" + 0.004*\"u\" + 0.004*\"government\" + 0.004*\"people\" + 0.004*\"also\" + 0.004*\"president\" + 0.004*\"year\" + 0.004*\"one\"'),\n",
       " (6,\n",
       "  '0.009*\"said\" + 0.005*\"new\" + 0.005*\"company\" + 0.005*\"also\" + 0.005*\"one\" + 0.004*\"would\" + 0.004*\"business\" + 0.004*\"year\" + 0.004*\"million\" + 0.003*\"oil\"'),\n",
       " (7,\n",
       "  '0.008*\"fed\" + 0.006*\"bernanke\" + 0.005*\"yellen\" + 0.004*\"said\" + 0.004*\"chairman\" + 0.004*\"one\" + 0.004*\"market\" + 0.003*\"time\" + 0.003*\"year\" + 0.003*\"today\"'),\n",
       " (8,\n",
       "  '0.007*\"barrick\" + 0.005*\"new\" + 0.005*\"bitcoin\" + 0.004*\"curtis\" + 0.003*\"one\" + 0.003*\"debt\" + 0.003*\"growth\" + 0.003*\"like\" + 0.003*\"see\" + 0.003*\"time\"'),\n",
       " (9,\n",
       "  '0.007*\"fund\" + 0.006*\"said\" + 0.005*\"stock\" + 0.005*\"1\" + 0.005*\"billion\" + 0.005*\"year\" + 0.005*\"company\" + 0.005*\"investors\" + 0.004*\"million\" + 0.004*\"also\"'),\n",
       " (10,\n",
       "  '0.012*\"year\" + 0.012*\"1\" + 0.010*\"percent\" + 0.010*\"2\" + 0.009*\"3\" + 0.009*\"0\" + 0.008*\"5\" + 0.008*\"index\" + 0.007*\"4\" + 0.006*\"quarter\"'),\n",
       " (11,\n",
       "  '0.013*\"market\" + 0.011*\"gold\" + 0.008*\"year\" + 0.006*\"stocks\" + 0.006*\"1\" + 0.005*\"2\" + 0.005*\"trading\" + 0.004*\"one\" + 0.004*\"rates\" + 0.004*\"time\"'),\n",
       " (12,\n",
       "  '0.006*\"people\" + 0.005*\"money\" + 0.004*\"investment\" + 0.004*\"time\" + 0.004*\"stock\" + 0.004*\"market\" + 0.004*\"year\" + 0.004*\"one\" + 0.003*\"get\" + 0.003*\"like\"'),\n",
       " (13,\n",
       "  '0.008*\"market\" + 0.007*\"fed\" + 0.007*\"china\" + 0.006*\"markets\" + 0.005*\"year\" + 0.005*\"bond\" + 0.005*\"rates\" + 0.004*\"growth\" + 0.004*\"may\" + 0.004*\"bank\"')]"
      ]
     },
     "execution_count": 1180,
     "metadata": {},
     "output_type": "execute_result"
    }
   ],
   "source": [
    "topic_list2013q2"
   ]
  },
  {
   "cell_type": "markdown",
   "metadata": {},
   "source": [
    "### \"2013 Q3\""
   ]
  },
  {
   "cell_type": "markdown",
   "metadata": {},
   "source": [
    "##### 1-housing,2-debt,3-growth,4-apple,5-fund,6-rate,7-prices,8-house,9-index,10-fed,11-emerging,12-mortgage,13-business,14-bank"
   ]
  },
  {
   "cell_type": "code",
   "execution_count": 1181,
   "metadata": {},
   "outputs": [],
   "source": [
    "topic_list2013q3 = []\n",
    "for topic in lda_2013q3.print_topics(num_topics=17):\n",
    "    topic_list2013q3.append(topic)"
   ]
  },
  {
   "cell_type": "code",
   "execution_count": 1182,
   "metadata": {
    "scrolled": true
   },
   "outputs": [
    {
     "data": {
      "text/plain": [
       "[(0,\n",
       "  '0.005*\"new\" + 0.005*\"one\" + 0.005*\"said\" + 0.005*\"market\" + 0.004*\"year\" + 0.004*\"would\" + 0.004*\"home\" + 0.003*\"also\" + 0.003*\"housing\" + 0.003*\"could\"'),\n",
       " (1,\n",
       "  '0.008*\"said\" + 0.006*\"market\" + 0.006*\"fed\" + 0.005*\"debt\" + 0.004*\"would\" + 0.004*\"one\" + 0.004*\"new\" + 0.004*\"year\" + 0.004*\"markets\" + 0.003*\"first\"'),\n",
       " (2,\n",
       "  '0.007*\"market\" + 0.006*\"year\" + 0.005*\"growth\" + 0.004*\"would\" + 0.004*\"fed\" + 0.004*\"time\" + 0.003*\"1\" + 0.003*\"new\" + 0.003*\"also\" + 0.003*\"one\"'),\n",
       " (3,\n",
       "  '0.010*\"apple\" + 0.007*\"new\" + 0.006*\"xa0\" + 0.005*\"market\" + 0.005*\"time\" + 0.004*\"one\" + 0.004*\"company\" + 0.004*\"gold\" + 0.004*\"like\" + 0.004*\"street\"'),\n",
       " (4,\n",
       "  '0.005*\"fund\" + 0.005*\"said\" + 0.005*\"one\" + 0.005*\"financial\" + 0.005*\"funds\" + 0.005*\"market\" + 0.004*\"years\" + 0.004*\"investors\" + 0.004*\"new\" + 0.004*\"investment\"'),\n",
       " (5,\n",
       "  '0.006*\"said\" + 0.006*\"billion\" + 0.005*\"1\" + 0.005*\"would\" + 0.005*\"rate\" + 0.004*\"7\" + 0.004*\"3\" + 0.004*\"year\" + 0.004*\"percent\" + 0.004*\"2\"'),\n",
       " (6,\n",
       "  '0.009*\"1\" + 0.006*\"0\" + 0.005*\"2\" + 0.005*\"market\" + 0.005*\"year\" + 0.004*\"one\" + 0.004*\"new\" + 0.004*\"5\" + 0.004*\"prices\" + 0.003*\"3\"'),\n",
       " (7,\n",
       "  '0.007*\"said\" + 0.005*\"would\" + 0.005*\"house\" + 0.005*\"time\" + 0.005*\"new\" + 0.005*\"obamacare\" + 0.005*\"fed\" + 0.004*\"cruz\" + 0.004*\"market\" + 0.004*\"one\"'),\n",
       " (8,\n",
       "  '0.009*\"year\" + 0.008*\"percent\" + 0.007*\"sales\" + 0.006*\"index\" + 0.005*\"prices\" + 0.005*\"new\" + 0.005*\"reported\" + 0.005*\"july\" + 0.005*\"rates\" + 0.005*\"2\"'),\n",
       " (9,\n",
       "  '0.006*\"said\" + 0.006*\"would\" + 0.006*\"new\" + 0.005*\"one\" + 0.005*\"fed\" + 0.003*\"last\" + 0.003*\"business\" + 0.003*\"year\" + 0.003*\"market\" + 0.003*\"report\"'),\n",
       " (10,\n",
       "  '0.005*\"market\" + 0.004*\"time\" + 0.004*\"year\" + 0.004*\"emerging\" + 0.004*\"may\" + 0.004*\"markets\" + 0.004*\"one\" + 0.004*\"1\" + 0.003*\"2\" + 0.003*\"percent\"'),\n",
       " (11,\n",
       "  '0.004*\"market\" + 0.004*\"said\" + 0.004*\"year\" + 0.004*\"new\" + 0.003*\"mortgage\" + 0.003*\"rates\" + 0.003*\"ackman\" + 0.003*\"markets\" + 0.003*\"people\" + 0.003*\"stock\"'),\n",
       " (12,\n",
       "  '0.005*\"new\" + 0.005*\"would\" + 0.004*\"business\" + 0.004*\"year\" + 0.004*\"one\" + 0.004*\"time\" + 0.003*\"also\" + 0.003*\"1\" + 0.003*\"money\" + 0.003*\"like\"'),\n",
       " (13,\n",
       "  '0.004*\"bank\" + 0.004*\"said\" + 0.004*\"market\" + 0.003*\"would\" + 0.003*\"one\" + 0.003*\"inflation\" + 0.003*\"gold\" + 0.003*\"year\" + 0.003*\"policy\" + 0.003*\"could\"')]"
      ]
     },
     "execution_count": 1182,
     "metadata": {},
     "output_type": "execute_result"
    }
   ],
   "source": [
    "topic_list2013q3"
   ]
  },
  {
   "cell_type": "markdown",
   "metadata": {},
   "source": [
    "### \"2013 Q4\""
   ]
  },
  {
   "cell_type": "markdown",
   "metadata": {},
   "source": [
    "##### 1-index,2-government,3-data,4-company,5-economy,6-job,7-Hong Kong,8-Market,9-bitcoin,10-debt,11-gold,12-currency,13-inflation,14-reuters"
   ]
  },
  {
   "cell_type": "code",
   "execution_count": 1183,
   "metadata": {},
   "outputs": [],
   "source": [
    "topic_list2013q4 = []\n",
    "for topic in lda_2013q4.print_topics(num_topics=17):\n",
    "    topic_list2013q4.append(topic)"
   ]
  },
  {
   "cell_type": "code",
   "execution_count": 1184,
   "metadata": {},
   "outputs": [
    {
     "data": {
      "text/plain": [
       "[(0,\n",
       "  '0.013*\"year\" + 0.011*\"0\" + 0.011*\"1\" + 0.010*\"percent\" + 0.009*\"index\" + 0.008*\"2\" + 0.007*\"month\" + 0.007*\"5\" + 0.007*\"growth\" + 0.006*\"december\"'),\n",
       " (1,\n",
       "  '0.004*\"said\" + 0.004*\"would\" + 0.004*\"number\" + 0.004*\"year\" + 0.003*\"one\" + 0.003*\"new\" + 0.003*\"1\" + 0.003*\"market\" + 0.003*\"government\" + 0.002*\"people\"'),\n",
       " (2,\n",
       "  '0.008*\"data\" + 0.006*\"business\" + 0.005*\"bloomberg\" + 0.005*\"new\" + 0.004*\"bitcoin\" + 0.004*\"000\" + 0.004*\"insider\" + 0.004*\"one\" + 0.004*\"market\" + 0.004*\"also\"'),\n",
       " (3,\n",
       "  '0.007*\"new\" + 0.006*\"one\" + 0.006*\"said\" + 0.005*\"company\" + 0.005*\"wall\" + 0.005*\"like\" + 0.005*\"street\" + 0.004*\"year\" + 0.004*\"million\" + 0.004*\"business\"'),\n",
       " (4,\n",
       "  '0.012*\"economy\" + 0.009*\"fed\" + 0.008*\"policy\" + 0.006*\"growth\" + 0.006*\"china\" + 0.005*\"fiscal\" + 0.005*\"economic\" + 0.005*\"rates\" + 0.005*\"monetary\" + 0.005*\"rate\"'),\n",
       " (5,\n",
       "  '0.008*\"said\" + 0.004*\"one\" + 0.004*\"year\" + 0.004*\"government\" + 0.004*\"000\" + 0.004*\"job\" + 0.003*\"cattle\" + 0.003*\"jobs\" + 0.003*\"according\" + 0.003*\"new\"'),\n",
       " (6,\n",
       "  '0.013*\"percent\" + 0.007*\"said\" + 0.006*\"year\" + 0.006*\"cattle\" + 0.005*\"hong\" + 0.004*\"kong\" + 0.004*\"new\" + 0.004*\"2\" + 0.004*\"government\" + 0.004*\"one\"'),\n",
       " (7,\n",
       "  '0.009*\"market\" + 0.007*\"year\" + 0.006*\"years\" + 0.006*\"one\" + 0.005*\"people\" + 0.005*\"stocks\" + 0.004*\"investors\" + 0.004*\"retirement\" + 0.004*\"companies\" + 0.004*\"world\"'),\n",
       " (8,\n",
       "  '0.008*\"bitcoin\" + 0.004*\"litecoin\" + 0.004*\"market\" + 0.004*\"monte\" + 0.004*\"value\" + 0.003*\"1\" + 0.003*\"currency\" + 0.003*\"u\" + 0.003*\"capital\" + 0.003*\"new\"'),\n",
       " (9,\n",
       "  '0.017*\"debt\" + 0.012*\"government\" + 0.007*\"retirement\" + 0.007*\"tax\" + 0.006*\"trillion\" + 0.005*\"benefits\" + 0.005*\"would\" + 0.004*\"local\" + 0.004*\"governments\" + 0.004*\"people\"'),\n",
       " (10,\n",
       "  '0.007*\"2014\" + 0.006*\"gold\" + 0.006*\"market\" + 0.006*\"year\" + 0.005*\"stock\" + 0.005*\"would\" + 0.005*\"1\" + 0.004*\"said\" + 0.004*\"2013\" + 0.004*\"price\"'),\n",
       " (11,\n",
       "  '0.038*\"bitcoin\" + 0.010*\"value\" + 0.009*\"currency\" + 0.008*\"people\" + 0.007*\"like\" + 0.007*\"money\" + 0.006*\"get\" + 0.005*\"bitcoins\" + 0.005*\"technology\" + 0.005*\"one\"'),\n",
       " (12,\n",
       "  '0.006*\"year\" + 0.005*\"said\" + 0.005*\"new\" + 0.005*\"market\" + 0.004*\"inflation\" + 0.004*\"growth\" + 0.004*\"financial\" + 0.004*\"cattle\" + 0.003*\"since\" + 0.003*\"iran\"'),\n",
       " (13,\n",
       "  '0.011*\"said\" + 0.005*\"would\" + 0.005*\"one\" + 0.004*\"year\" + 0.004*\"people\" + 0.004*\"time\" + 0.003*\"new\" + 0.003*\"like\" + 0.003*\"get\" + 0.003*\"reuters\"')]"
      ]
     },
     "execution_count": 1184,
     "metadata": {},
     "output_type": "execute_result"
    }
   ],
   "source": [
    "topic_list2013q4"
   ]
  },
  {
   "cell_type": "markdown",
   "metadata": {},
   "source": [
    "### \"2014 Q1\""
   ]
  },
  {
   "cell_type": "markdown",
   "metadata": {},
   "source": [
    "##### 1---free , 2---shoe, 3---New York,4---government,5---street,6---appdownload,7---market,8---business,9---Australia,10---bitcoin,11---company ,12--- apple,13---china  14---unemployment"
   ]
  },
  {
   "cell_type": "code",
   "execution_count": 1185,
   "metadata": {},
   "outputs": [],
   "source": [
    "topic_list2014q1 = []\n",
    "for topic in lda_2014q1.print_topics(num_topics=17):\n",
    "    topic_list2014q1.append(topic)"
   ]
  },
  {
   "cell_type": "code",
   "execution_count": 1186,
   "metadata": {},
   "outputs": [
    {
     "data": {
      "text/plain": [
       "[(0,\n",
       "  '0.006*\"new\" + 0.005*\"one\" + 0.004*\"would\" + 0.004*\"like\" + 0.004*\"people\" + 0.004*\"said\" + 0.004*\"time\" + 0.003*\"get\" + 0.003*\"could\" + 0.003*\"free\"'),\n",
       " (1,\n",
       "  '0.006*\"shoe\" + 0.006*\"market\" + 0.006*\"biotech\" + 0.005*\"new\" + 0.005*\"labor\" + 0.004*\"last\" + 0.004*\"3\" + 0.004*\"sales\" + 0.004*\"said\" + 0.004*\"since\"'),\n",
       " (2,\n",
       "  '0.009*\"new\" + 0.006*\"free\" + 0.005*\"york\" + 0.005*\"people\" + 0.005*\"migration\" + 0.005*\"appdownload\" + 0.005*\"cities\" + 0.005*\"twitter\" + 0.004*\"business\" + 0.004*\"com\"'),\n",
       " (3,\n",
       "  '0.010*\"said\" + 0.005*\"people\" + 0.004*\"new\" + 0.004*\"also\" + 0.004*\"would\" + 0.004*\"government\" + 0.003*\"putin\" + 0.003*\"one\" + 0.003*\"two\" + 0.003*\"business\"'),\n",
       " (4,\n",
       "  '0.006*\"said\" + 0.006*\"year\" + 0.005*\"street\" + 0.005*\"wall\" + 0.005*\"free\" + 0.004*\"new\" + 0.004*\"billion\" + 0.004*\"appdownload\" + 0.004*\"one\" + 0.003*\"would\"'),\n",
       " (5,\n",
       "  '0.005*\"appdownload\" + 0.005*\"lululemon\" + 0.004*\"market\" + 0.004*\"year\" + 0.004*\"markets\" + 0.004*\"free\" + 0.004*\"china\" + 0.004*\"said\" + 0.004*\"emerging\" + 0.003*\"new\"'),\n",
       " (6,\n",
       "  '0.009*\"market\" + 0.006*\"year\" + 0.006*\"growth\" + 0.004*\"p\" + 0.004*\"1\" + 0.004*\"amp\" + 0.004*\"economy\" + 0.004*\"free\" + 0.004*\"appdownload\" + 0.004*\"fed\"'),\n",
       " (7,\n",
       "  '0.007*\"market\" + 0.005*\"free\" + 0.005*\"year\" + 0.004*\"one\" + 0.004*\"business\" + 0.004*\"also\" + 0.004*\"appdownload\" + 0.004*\"would\" + 0.004*\"stock\" + 0.004*\"said\"'),\n",
       " (8,\n",
       "  '0.020*\"perth\" + 0.009*\"million\" + 0.006*\"year\" + 0.005*\"1\" + 0.005*\"australia\" + 0.005*\"billion\" + 0.004*\"nbsp\" + 0.004*\"new\" + 0.004*\"said\" + 0.003*\"one\"'),\n",
       " (9,\n",
       "  '0.014*\"bitcoin\" + 0.014*\"free\" + 0.013*\"appdownload\" + 0.010*\"gox\" + 0.009*\"mt\" + 0.007*\"currency\" + 0.006*\"said\" + 0.005*\"virtual\" + 0.005*\"exchange\" + 0.004*\"would\"'),\n",
       " (10,\n",
       "  '0.010*\"said\" + 0.008*\"company\" + 0.005*\"one\" + 0.004*\"companies\" + 0.004*\"would\" + 0.003*\"free\" + 0.003*\"also\" + 0.003*\"mr\" + 0.003*\"two\" + 0.003*\"reuters\"'),\n",
       " (11,\n",
       "  '0.010*\"billion\" + 0.009*\"apple\" + 0.007*\"bank\" + 0.007*\"said\" + 0.007*\"company\" + 0.006*\"new\" + 0.004*\"deal\" + 0.004*\"free\" + 0.004*\"percent\" + 0.004*\"million\"'),\n",
       " (12,\n",
       "  '0.008*\"year\" + 0.007*\"1\" + 0.007*\"said\" + 0.006*\"0\" + 0.006*\"2\" + 0.005*\"percent\" + 0.005*\"data\" + 0.005*\"growth\" + 0.005*\"u\" + 0.005*\"china\"'),\n",
       " (13,\n",
       "  '0.008*\"market\" + 0.005*\"unemployment\" + 0.005*\"u\" + 0.005*\"recession\" + 0.004*\"growth\" + 0.004*\"jobs\" + 0.004*\"economy\" + 0.004*\"year\" + 0.004*\"term\" + 0.004*\"rate\"')]"
      ]
     },
     "execution_count": 1186,
     "metadata": {},
     "output_type": "execute_result"
    }
   ],
   "source": [
    "topic_list2014q1"
   ]
  },
  {
   "cell_type": "markdown",
   "metadata": {},
   "source": [
    "### \"2014 Q2\""
   ]
  },
  {
   "cell_type": "markdown",
   "metadata": {},
   "source": [
    "##### 1--- growth 2---free,3---company,4---business ,5---market ,6---rate,7---appdownload,8---free,9---inflation,10---sales , 11---AMP ,12---business,13---bank,14---investment"
   ]
  },
  {
   "cell_type": "code",
   "execution_count": 1187,
   "metadata": {},
   "outputs": [],
   "source": [
    "topic_list2014q2 = []\n",
    "for topic in lda_2014q2.print_topics(num_topics=17):\n",
    "    topic_list2014q2.append(topic)"
   ]
  },
  {
   "cell_type": "code",
   "execution_count": 1188,
   "metadata": {},
   "outputs": [
    {
     "data": {
      "text/plain": [
       "[(0,\n",
       "  '0.007*\"1\" + 0.006*\"0\" + 0.006*\"year\" + 0.006*\"2\" + 0.005*\"growth\" + 0.005*\"may\" + 0.004*\"free\" + 0.004*\"market\" + 0.004*\"appdownload\" + 0.004*\"said\"'),\n",
       " (1,\n",
       "  '0.006*\"said\" + 0.005*\"year\" + 0.005*\"new\" + 0.005*\"would\" + 0.005*\"free\" + 0.004*\"last\" + 0.004*\"appdownload\" + 0.003*\"years\" + 0.003*\"percent\" + 0.003*\"1\"'),\n",
       " (2,\n",
       "  '0.011*\"said\" + 0.007*\"company\" + 0.007*\"year\" + 0.005*\"million\" + 0.005*\"u\" + 0.005*\"1\" + 0.005*\"billion\" + 0.004*\"shares\" + 0.004*\"free\" + 0.004*\"000\"'),\n",
       " (3,\n",
       "  '0.004*\"people\" + 0.004*\"one\" + 0.004*\"would\" + 0.004*\"new\" + 0.003*\"time\" + 0.003*\"business\" + 0.003*\"like\" + 0.003*\"money\" + 0.003*\"said\" + 0.003*\"also\"'),\n",
       " (4,\n",
       "  '0.008*\"company\" + 0.006*\"year\" + 0.006*\"billion\" + 0.004*\"million\" + 0.004*\"new\" + 0.004*\"business\" + 0.004*\"1\" + 0.004*\"would\" + 0.003*\"said\" + 0.003*\"market\"'),\n",
       " (5,\n",
       "  '0.005*\"would\" + 0.004*\"market\" + 0.004*\"one\" + 0.004*\"time\" + 0.003*\"rate\" + 0.003*\"year\" + 0.003*\"said\" + 0.003*\"years\" + 0.003*\"policy\" + 0.003*\"new\"'),\n",
       " (6,\n",
       "  '0.005*\"said\" + 0.005*\"new\" + 0.005*\"music\" + 0.005*\"free\" + 0.005*\"apple\" + 0.005*\"one\" + 0.004*\"1\" + 0.004*\"also\" + 0.004*\"appdownload\" + 0.004*\"year\"'),\n",
       " (7,\n",
       "  '0.010*\"said\" + 0.005*\"year\" + 0.004*\"u\" + 0.004*\"appdownload\" + 0.004*\"new\" + 0.004*\"free\" + 0.003*\"one\" + 0.003*\"1\" + 0.003*\"would\" + 0.003*\"also\"'),\n",
       " (8,\n",
       "  '0.005*\"market\" + 0.005*\"inflation\" + 0.005*\"said\" + 0.005*\"rate\" + 0.005*\"funds\" + 0.004*\"financial\" + 0.004*\"year\" + 0.004*\"also\" + 0.004*\"policy\" + 0.003*\"would\"'),\n",
       " (9,\n",
       "  '0.008*\"year\" + 0.006*\"sales\" + 0.006*\"1\" + 0.005*\"million\" + 0.005*\"free\" + 0.004*\"0\" + 0.004*\"2\" + 0.004*\"3\" + 0.004*\"appdownload\" + 0.004*\"may\"'),\n",
       " (10,\n",
       "  '0.006*\"said\" + 0.004*\"year\" + 0.004*\"business\" + 0.004*\"new\" + 0.004*\"would\" + 0.004*\"market\" + 0.003*\"amp\" + 0.003*\"one\" + 0.003*\"also\" + 0.003*\"free\"'),\n",
       " (11,\n",
       "  '0.006*\"one\" + 0.005*\"said\" + 0.005*\"new\" + 0.004*\"world\" + 0.004*\"business\" + 0.004*\"also\" + 0.004*\"time\" + 0.004*\"people\" + 0.003*\"like\" + 0.003*\"year\"'),\n",
       " (12,\n",
       "  '0.006*\"bank\" + 0.005*\"market\" + 0.005*\"one\" + 0.005*\"said\" + 0.004*\"us\" + 0.004*\"1\" + 0.004*\"world\" + 0.003*\"u\" + 0.003*\"2\" + 0.003*\"free\"'),\n",
       " (13,\n",
       "  '0.008*\"said\" + 0.006*\"free\" + 0.005*\"appdownload\" + 0.005*\"one\" + 0.004*\"u\" + 0.004*\"year\" + 0.004*\"market\" + 0.004*\"bank\" + 0.003*\"new\" + 0.003*\"investment\"')]"
      ]
     },
     "execution_count": 1188,
     "metadata": {},
     "output_type": "execute_result"
    }
   ],
   "source": [
    "topic_list2014q2"
   ]
  },
  {
   "cell_type": "markdown",
   "metadata": {},
   "source": [
    "###  \"2014 Q3\""
   ]
  },
  {
   "cell_type": "markdown",
   "metadata": {},
   "source": [
    "####  1---growth 2---appdownload 3---apple 4---oil 5---dollar 6~Russia 7---company 8---PIMCO 9---Argentina 10---tesla 11---government 12---food 13---funds 14---fed"
   ]
  },
  {
   "cell_type": "code",
   "execution_count": 1189,
   "metadata": {},
   "outputs": [],
   "source": [
    "topic_list2014q3 = []\n",
    "for topic in lda_2014q3.print_topics(num_topics=17):\n",
    "    topic_list2014q3.append(topic)"
   ]
  },
  {
   "cell_type": "code",
   "execution_count": 1190,
   "metadata": {},
   "outputs": [
    {
     "data": {
      "text/plain": [
       "[(0,\n",
       "  '0.009*\"said\" + 0.006*\"year\" + 0.005*\"percent\" + 0.005*\"growth\" + 0.005*\"economy\" + 0.004*\"1\" + 0.004*\"0\" + 0.004*\"bank\" + 0.004*\"also\" + 0.004*\"china\"'),\n",
       " (1,\n",
       "  '0.008*\"year\" + 0.006*\"new\" + 0.005*\"said\" + 0.005*\"free\" + 0.004*\"1\" + 0.004*\"percent\" + 0.004*\"appdownload\" + 0.004*\"one\" + 0.004*\"time\" + 0.004*\"also\"'),\n",
       " (2,\n",
       "  '0.007*\"year\" + 0.006*\"said\" + 0.006*\"apple\" + 0.005*\"one\" + 0.005*\"million\" + 0.005*\"company\" + 0.005*\"free\" + 0.005*\"people\" + 0.005*\"cisco\" + 0.004*\"business\"'),\n",
       " (3,\n",
       "  '0.010*\"said\" + 0.006*\"new\" + 0.005*\"appdownload\" + 0.005*\"bank\" + 0.004*\"free\" + 0.004*\"one\" + 0.004*\"company\" + 0.004*\"sand\" + 0.004*\"york\" + 0.003*\"video\"'),\n",
       " (4,\n",
       "  '0.011*\"said\" + 0.007*\"bank\" + 0.006*\"dollar\" + 0.005*\"china\" + 0.005*\"year\" + 0.004*\"percent\" + 0.004*\"reuters\" + 0.004*\"free\" + 0.004*\"u\" + 0.004*\"hong\"'),\n",
       " (5,\n",
       "  '0.019*\"u\" + 0.010*\"said\" + 0.005*\"oil\" + 0.005*\"1\" + 0.005*\"new\" + 0.005*\"russia\" + 0.005*\"year\" + 0.004*\"reuters\" + 0.004*\"free\" + 0.004*\"russian\"'),\n",
       " (6,\n",
       "  '0.007*\"year\" + 0.006*\"said\" + 0.005*\"new\" + 0.004*\"company\" + 0.004*\"bank\" + 0.004*\"free\" + 0.004*\"report\" + 0.004*\"last\" + 0.004*\"would\" + 0.003*\"growth\"'),\n",
       " (7,\n",
       "  '0.011*\"said\" + 0.007*\"company\" + 0.006*\"new\" + 0.005*\"billion\" + 0.005*\"would\" + 0.004*\"year\" + 0.004*\"pimco\" + 0.004*\"free\" + 0.004*\"fund\" + 0.004*\"gross\"'),\n",
       " (8,\n",
       "  '0.009*\"bank\" + 0.009*\"argentina\" + 0.007*\"said\" + 0.006*\"country\" + 0.005*\"would\" + 0.004*\"debt\" + 0.004*\"billion\" + 0.004*\"year\" + 0.004*\"free\" + 0.003*\"new\"'),\n",
       " (9,\n",
       "  '0.006*\"tesla\" + 0.005*\"year\" + 0.005*\"new\" + 0.005*\"000\" + 0.005*\"university\" + 0.004*\"u\" + 0.004*\"3\" + 0.004*\"free\" + 0.004*\"week\" + 0.004*\"data\"'),\n",
       " (10,\n",
       "  '0.006*\"said\" + 0.005*\"one\" + 0.005*\"like\" + 0.004*\"people\" + 0.004*\"business\" + 0.004*\"government\" + 0.003*\"would\" + 0.003*\"also\" + 0.003*\"time\" + 0.003*\"money\"'),\n",
       " (11,\n",
       "  '0.006*\"food\" + 0.005*\"restaurants\" + 0.005*\"new\" + 0.005*\"said\" + 0.004*\"restaurant\" + 0.004*\"one\" + 0.004*\"also\" + 0.004*\"people\" + 0.004*\"year\" + 0.003*\"free\"'),\n",
       " (12,\n",
       "  '0.009*\"market\" + 0.004*\"year\" + 0.004*\"time\" + 0.004*\"free\" + 0.004*\"us\" + 0.004*\"said\" + 0.003*\"funds\" + 0.003*\"one\" + 0.003*\"appdownload\" + 0.003*\"many\"'),\n",
       " (13,\n",
       "  '0.011*\"market\" + 0.010*\"fed\" + 0.007*\"rates\" + 0.006*\"rate\" + 0.006*\"policy\" + 0.005*\"inflation\" + 0.005*\"would\" + 0.005*\"year\" + 0.005*\"growth\" + 0.005*\"time\"')]"
      ]
     },
     "execution_count": 1190,
     "metadata": {},
     "output_type": "execute_result"
    }
   ],
   "source": [
    "topic_list2014q3"
   ]
  },
  {
   "cell_type": "markdown",
   "metadata": {},
   "source": [
    "### \"2014 Q4\""
   ]
  },
  {
   "cell_type": "markdown",
   "metadata": {},
   "source": [
    "####  1---ECB 2---company 3---bank 4---Hamm 5---market 6---free 7---reuters 8---stocks 9---oil 10---financial 11---appdownload 12---credit 13---prices 14---Amazon"
   ]
  },
  {
   "cell_type": "code",
   "execution_count": 1191,
   "metadata": {},
   "outputs": [],
   "source": [
    "topic_list2014q4 = []\n",
    "for topic in lda_2014q4.print_topics(num_topics=17):\n",
    "    topic_list2014q4.append(topic)"
   ]
  },
  {
   "cell_type": "code",
   "execution_count": 1192,
   "metadata": {},
   "outputs": [
    {
     "data": {
      "text/plain": [
       "[(0,\n",
       "  '0.006*\"ecb\" + 0.005*\"said\" + 0.004*\"new\" + 0.004*\"growth\" + 0.004*\"would\" + 0.004*\"year\" + 0.003*\"market\" + 0.003*\"could\" + 0.003*\"bank\" + 0.003*\"inflation\"'),\n",
       " (1,\n",
       "  '0.009*\"million\" + 0.008*\"year\" + 0.007*\"billion\" + 0.005*\"quarter\" + 0.005*\"company\" + 0.005*\"said\" + 0.005*\"1\" + 0.004*\"2\" + 0.004*\"5\" + 0.004*\"new\"'),\n",
       " (2,\n",
       "  '0.004*\"wine\" + 0.004*\"free\" + 0.004*\"said\" + 0.003*\"appdownload\" + 0.003*\"new\" + 0.003*\"market\" + 0.003*\"us\" + 0.003*\"years\" + 0.003*\"also\" + 0.002*\"world\"'),\n",
       " (3,\n",
       "  '0.005*\"hamm\" + 0.005*\"company\" + 0.004*\"said\" + 0.004*\"year\" + 0.003*\"oil\" + 0.003*\"one\" + 0.003*\"continental\" + 0.003*\"also\" + 0.003*\"new\" + 0.003*\"billion\"'),\n",
       " (4,\n",
       "  '0.007*\"said\" + 0.006*\"new\" + 0.005*\"would\" + 0.004*\"year\" + 0.004*\"one\" + 0.004*\"time\" + 0.004*\"us\" + 0.004*\"could\" + 0.004*\"company\" + 0.004*\"market\"'),\n",
       " (5,\n",
       "  '0.006*\"one\" + 0.005*\"said\" + 0.005*\"new\" + 0.004*\"us\" + 0.004*\"free\" + 0.004*\"business\" + 0.003*\"year\" + 0.003*\"also\" + 0.003*\"would\" + 0.003*\"million\"'),\n",
       " (6,\n",
       "  '0.010*\"said\" + 0.009*\"year\" + 0.007*\"percent\" + 0.007*\"russia\" + 0.007*\"1\" + 0.006*\"bank\" + 0.005*\"0\" + 0.005*\"russian\" + 0.004*\"reuters\" + 0.004*\"free\"'),\n",
       " (7,\n",
       "  '0.009*\"market\" + 0.007*\"year\" + 0.006*\"stock\" + 0.005*\"us\" + 0.005*\"stocks\" + 0.005*\"appdownload\" + 0.005*\"free\" + 0.005*\"time\" + 0.004*\"company\" + 0.004*\"1\"'),\n",
       " (8,\n",
       "  '0.011*\"oil\" + 0.007*\"us\" + 0.006*\"price\" + 0.006*\"prices\" + 0.006*\"leather\" + 0.006*\"russia\" + 0.005*\"watch\" + 0.004*\"opec\" + 0.004*\"ruble\" + 0.004*\"production\"'),\n",
       " (9,\n",
       "  '0.005*\"said\" + 0.005*\"financial\" + 0.005*\"money\" + 0.005*\"market\" + 0.005*\"banks\" + 0.005*\"year\" + 0.004*\"bank\" + 0.004*\"one\" + 0.004*\"would\" + 0.004*\"time\"'),\n",
       " (10,\n",
       "  '0.007*\"people\" + 0.005*\"one\" + 0.005*\"free\" + 0.005*\"time\" + 0.005*\"like\" + 0.005*\"appdownload\" + 0.004*\"said\" + 0.004*\"get\" + 0.004*\"business\" + 0.004*\"think\"'),\n",
       " (11,\n",
       "  '0.004*\"market\" + 0.004*\"debt\" + 0.004*\"said\" + 0.004*\"growth\" + 0.003*\"free\" + 0.003*\"year\" + 0.003*\"years\" + 0.003*\"new\" + 0.003*\"would\" + 0.003*\"credit\"'),\n",
       " (12,\n",
       "  '0.022*\"oil\" + 0.012*\"u\" + 0.010*\"prices\" + 0.009*\"year\" + 0.007*\"said\" + 0.006*\"percent\" + 0.005*\"growth\" + 0.005*\"market\" + 0.005*\"since\" + 0.005*\"price\"'),\n",
       " (13,\n",
       "  '0.009*\"company\" + 0.008*\"said\" + 0.007*\"amazon\" + 0.006*\"sales\" + 0.005*\"new\" + 0.004*\"business\" + 0.004*\"free\" + 0.004*\"year\" + 0.004*\"store\" + 0.004*\"customers\"')]"
      ]
     },
     "execution_count": 1192,
     "metadata": {},
     "output_type": "execute_result"
    }
   ],
   "source": [
    "topic_list2014q4"
   ]
  },
  {
   "cell_type": "markdown",
   "metadata": {},
   "source": [
    "### \"All articles\""
   ]
  },
  {
   "cell_type": "markdown",
   "metadata": {},
   "source": [
    "#### 1--- russia 2---european 3---percent 4---policy 5---tax 6---oil 7---gold 8---people 9---growth 10---bank 11---New York 12---appdownload 13---stock 14---economy "
   ]
  },
  {
   "cell_type": "code",
   "execution_count": 1175,
   "metadata": {},
   "outputs": [],
   "source": [
    "topic_listall = []\n",
    "topic_list2014q4 = []\n",
    "for topic in lda_all.print_topics(num_topics=17):\n",
    "    topic_listall.append(topic)"
   ]
  },
  {
   "cell_type": "code",
   "execution_count": 1176,
   "metadata": {},
   "outputs": [
    {
     "data": {
      "text/plain": [
       "[(0,\n",
       "  '0.021*\"said\" + 0.014*\"u\" + 0.008*\"russia\" + 0.007*\"russian\" + 0.006*\"reuters\" + 0.005*\"new\" + 0.005*\"court\" + 0.004*\"china\" + 0.004*\"sanctions\" + 0.004*\"government\"'),\n",
       " (1,\n",
       "  '0.017*\"european\" + 0.013*\"ecb\" + 0.012*\"euro\" + 0.011*\"europe\" + 0.010*\"eu\" + 0.010*\"minister\" + 0.010*\"france\" + 0.010*\"said\" + 0.009*\"germany\" + 0.009*\"german\"'),\n",
       " (2,\n",
       "  '0.022*\"1\" + 0.020*\"0\" + 0.018*\"2\" + 0.015*\"percent\" + 0.015*\"year\" + 0.013*\"3\" + 0.013*\"5\" + 0.012*\"4\" + 0.012*\"appdownload\" + 0.010*\"6\"'),\n",
       " (3,\n",
       "  '0.016*\"policy\" + 0.013*\"inflation\" + 0.012*\"rate\" + 0.011*\"fed\" + 0.011*\"federal\" + 0.010*\"committee\" + 0.009*\"economic\" + 0.007*\"monetary\" + 0.007*\"financial\" + 0.007*\"would\"'),\n",
       " (4,\n",
       "  '0.018*\"tax\" + 0.013*\"would\" + 0.012*\"said\" + 0.011*\"obama\" + 0.010*\"house\" + 0.009*\"president\" + 0.008*\"government\" + 0.007*\"budget\" + 0.006*\"senate\" + 0.005*\"congress\"'),\n",
       " (5,\n",
       "  '0.017*\"oil\" + 0.008*\"said\" + 0.008*\"company\" + 0.007*\"million\" + 0.006*\"year\" + 0.006*\"new\" + 0.006*\"energy\" + 0.005*\"companies\" + 0.005*\"billion\" + 0.005*\"gas\"'),\n",
       " (6,\n",
       "  '0.017*\"market\" + 0.015*\"gold\" + 0.014*\"trading\" + 0.009*\"stock\" + 0.009*\"stocks\" + 0.009*\"day\" + 0.008*\"dollar\" + 0.008*\"traders\" + 0.008*\"price\" + 0.007*\"appdownload\"'),\n",
       " (7,\n",
       "  '0.009*\"one\" + 0.008*\"people\" + 0.008*\"like\" + 0.006*\"get\" + 0.006*\"time\" + 0.005*\"money\" + 0.004*\"make\" + 0.004*\"would\" + 0.004*\"think\" + 0.004*\"even\"'),\n",
       " (8,\n",
       "  '0.015*\"growth\" + 0.011*\"year\" + 0.010*\"prices\" + 0.008*\"demand\" + 0.008*\"sales\" + 0.007*\"labor\" + 0.007*\"activity\" + 0.007*\"report\" + 0.006*\"reported\" + 0.006*\"new\"'),\n",
       " (9,\n",
       "  '0.029*\"bank\" + 0.028*\"said\" + 0.015*\"banks\" + 0.012*\"reuters\" + 0.011*\"billion\" + 0.011*\"gt\" + 0.010*\"lt\" + 0.008*\"editing\" + 0.007*\"financial\" + 0.007*\"reporting\"'),\n",
       " (10,\n",
       "  '0.009*\"new\" + 0.007*\"city\" + 0.006*\"york\" + 0.005*\"food\" + 0.005*\"one\" + 0.005*\"business\" + 0.005*\"year\" + 0.004*\"university\" + 0.004*\"free\" + 0.004*\"top\"'),\n",
       " (11,\n",
       "  '0.037*\"appdownload\" + 0.020*\"apple\" + 0.016*\"free\" + 0.011*\"company\" + 0.011*\"amazon\" + 0.008*\"new\" + 0.008*\"mobile\" + 0.007*\"iphone\" + 0.007*\"said\" + 0.006*\"would\"'),\n",
       " (12,\n",
       "  '0.011*\"company\" + 0.010*\"stock\" + 0.010*\"year\" + 0.009*\"investors\" + 0.009*\"market\" + 0.008*\"amp\" + 0.007*\"earnings\" + 0.007*\"fund\" + 0.006*\"billion\" + 0.006*\"shares\"'),\n",
       " (13,\n",
       "  '0.010*\"market\" + 0.008*\"markets\" + 0.008*\"economy\" + 0.008*\"us\" + 0.006*\"growth\" + 0.006*\"rates\" + 0.006*\"prices\" + 0.006*\"economic\" + 0.005*\"bank\" + 0.005*\"fed\"')]"
      ]
     },
     "execution_count": 1176,
     "metadata": {},
     "output_type": "execute_result"
    }
   ],
   "source": [
    "topic_listall"
   ]
  },
  {
   "cell_type": "markdown",
   "metadata": {},
   "source": [
    "# TF-IDF"
   ]
  },
  {
   "cell_type": "code",
   "execution_count": 1,
   "metadata": {},
   "outputs": [],
   "source": [
    "from sklearn import feature_extraction\n",
    "from sklearn.feature_extraction.text import CountVectorizer \n",
    "from sklearn.feature_extraction.text import TfidfTransformer"
   ]
  },
  {
   "cell_type": "code",
   "execution_count": 4,
   "metadata": {},
   "outputs": [],
   "source": [
    "import string"
   ]
  },
  {
   "cell_type": "code",
   "execution_count": 5,
   "metadata": {},
   "outputs": [],
   "source": [
    "transform = TfidfTransformer()"
   ]
  },
  {
   "cell_type": "code",
   "execution_count": 6,
   "metadata": {},
   "outputs": [],
   "source": [
    "vectorizer = CountVectorizer()"
   ]
  },
  {
   "cell_type": "markdown",
   "metadata": {},
   "source": [
    "### Read articles day by day "
   ]
  },
  {
   "cell_type": "code",
   "execution_count": 7,
   "metadata": {},
   "outputs": [],
   "source": [
    "def read_txt(filename):\n",
    "    list_name = []\n",
    "    for line in open(filename,'r',encoding='utf-8' , errors='ignore'):\n",
    "        list_name.append(str(line).replace('\\n',''))\n",
    "        \n",
    "    return list_name"
   ]
  },
  {
   "cell_type": "code",
   "execution_count": 11,
   "metadata": {},
   "outputs": [],
   "source": [
    "#get articles from day's article\n",
    "daybyday = []\n",
    "for filename in file2013_q1:\n",
    "    daybyday.append(read_txt(filename))"
   ]
  },
  {
   "cell_type": "code",
   "execution_count": 12,
   "metadata": {},
   "outputs": [],
   "source": [
    "#Divide dataset by days\n",
    "names = locals()\n",
    "for i in range(0,90):\n",
    "    names['d2013%s' % i] = daybyday[i]"
   ]
  },
  {
   "cell_type": "code",
   "execution_count": 19,
   "metadata": {},
   "outputs": [],
   "source": [
    "doc_q1 = read_txt('./2013q1.txt')"
   ]
  },
  {
   "cell_type": "markdown",
   "metadata": {},
   "source": [
    "### Remove stopwords "
   ]
  },
  {
   "cell_type": "code",
   "execution_count": 13,
   "metadata": {},
   "outputs": [],
   "source": [
    "def delete_words(doclist):\n",
    "    getwords = get_words(doclist)\n",
    "    words = []\n",
    "    words.append(str(getwords).replace('[' , '').replace(']','').replace('\\'','').replace(',' , ' '))\n",
    "    return words"
   ]
  },
  {
   "cell_type": "code",
   "execution_count": 16,
   "metadata": {},
   "outputs": [],
   "source": [
    "#Use delete_words and get wordlist\n",
    "#word_day0   ----  word_day89\n",
    "namedf = locals()\n",
    "for i in range(0,90):\n",
    "    namedf['word_day%s' % i ] = delete_words(namedf['d2013%s'%i])"
   ]
  },
  {
   "cell_type": "code",
   "execution_count": 20,
   "metadata": {},
   "outputs": [],
   "source": [
    "#This is the first quater of 2013\n",
    "word_q1 = delete_words(doc_q1)"
   ]
  },
  {
   "cell_type": "code",
   "execution_count": 21,
   "metadata": {},
   "outputs": [],
   "source": [
    "#calculate TF-IDFscore \n",
    "#(getword_tf:getvalue_tf)\n",
    "def get_tfidf(corpus):\n",
    "    X = vectorizer.fit_transform(corpus)\n",
    "    tfidf = transform.fit_transform(X)\n",
    "    tfidf_dict = {}\n",
    "    words_tf = vectorizer.get_feature_names()\n",
    "    weight = tfidf.toarray()\n",
    "    for i in range(len(weight)):\n",
    "        for j in range(len(words_tf)):\n",
    "            getword_tf = words_tf[j]\n",
    "            getvalue_tf = weight[i][j]\n",
    "        #print (getword_tf)\n",
    "        #print (getvalue_tf)\n",
    "            if getvalue_tf != 0:\n",
    "                tfidf_dict.update({getword_tf:getvalue_tf})\n",
    "    #sort word by value in descending order\n",
    "    df = pd.DataFrame(sorted(tfidf_dict.items(), key = lambda d:d[1] , reverse=True))\n",
    "    return df"
   ]
  },
  {
   "cell_type": "code",
   "execution_count": 22,
   "metadata": {},
   "outputs": [],
   "source": [
    "#Use get_tfidf get vector\n",
    "#df_day0-----df_day89\n",
    "namedf = locals()\n",
    "for i in range(0,90):\n",
    "    namedf['df_day%s' % i ] = get_tfidf(namedf['word_day%s'%i])"
   ]
  },
  {
   "cell_type": "code",
   "execution_count": 23,
   "metadata": {},
   "outputs": [
    {
     "data": {
      "text/html": [
       "<div>\n",
       "<style scoped>\n",
       "    .dataframe tbody tr th:only-of-type {\n",
       "        vertical-align: middle;\n",
       "    }\n",
       "\n",
       "    .dataframe tbody tr th {\n",
       "        vertical-align: top;\n",
       "    }\n",
       "\n",
       "    .dataframe thead th {\n",
       "        text-align: right;\n",
       "    }\n",
       "</style>\n",
       "<table border=\"1\" class=\"dataframe\">\n",
       "  <thead>\n",
       "    <tr style=\"text-align: right;\">\n",
       "      <th></th>\n",
       "      <th>0</th>\n",
       "      <th>1</th>\n",
       "    </tr>\n",
       "  </thead>\n",
       "  <tbody>\n",
       "    <tr>\n",
       "      <th>0</th>\n",
       "      <td>growth</td>\n",
       "      <td>0.400145</td>\n",
       "    </tr>\n",
       "    <tr>\n",
       "      <th>1</th>\n",
       "      <td>market</td>\n",
       "      <td>0.271066</td>\n",
       "    </tr>\n",
       "    <tr>\n",
       "      <th>2</th>\n",
       "      <td>stock</td>\n",
       "      <td>0.223737</td>\n",
       "    </tr>\n",
       "  </tbody>\n",
       "</table>\n",
       "</div>"
      ],
      "text/plain": [
       "        0         1\n",
       "0  growth  0.400145\n",
       "1  market  0.271066\n",
       "2   stock  0.223737"
      ]
     },
     "execution_count": 23,
     "metadata": {},
     "output_type": "execute_result"
    }
   ],
   "source": [
    "#show result\n",
    "df_day0.head(3)"
   ]
  },
  {
   "cell_type": "code",
   "execution_count": 24,
   "metadata": {},
   "outputs": [],
   "source": [
    "##This is the tfidf form first quater of 2013\n",
    "df_2013q1 = get_tfidf(word_q1)"
   ]
  },
  {
   "cell_type": "code",
   "execution_count": 25,
   "metadata": {},
   "outputs": [
    {
     "data": {
      "text/html": [
       "<div>\n",
       "<style scoped>\n",
       "    .dataframe tbody tr th:only-of-type {\n",
       "        vertical-align: middle;\n",
       "    }\n",
       "\n",
       "    .dataframe tbody tr th {\n",
       "        vertical-align: top;\n",
       "    }\n",
       "\n",
       "    .dataframe thead th {\n",
       "        text-align: right;\n",
       "    }\n",
       "</style>\n",
       "<table border=\"1\" class=\"dataframe\">\n",
       "  <thead>\n",
       "    <tr style=\"text-align: right;\">\n",
       "      <th></th>\n",
       "      <th>0</th>\n",
       "      <th>1</th>\n",
       "    </tr>\n",
       "  </thead>\n",
       "  <tbody>\n",
       "    <tr>\n",
       "      <th>0</th>\n",
       "      <td>year</td>\n",
       "      <td>0.201241</td>\n",
       "    </tr>\n",
       "    <tr>\n",
       "      <th>1</th>\n",
       "      <td>would</td>\n",
       "      <td>0.178103</td>\n",
       "    </tr>\n",
       "    <tr>\n",
       "      <th>2</th>\n",
       "      <td>percent</td>\n",
       "      <td>0.166534</td>\n",
       "    </tr>\n",
       "  </tbody>\n",
       "</table>\n",
       "</div>"
      ],
      "text/plain": [
       "         0         1\n",
       "0     year  0.201241\n",
       "1    would  0.178103\n",
       "2  percent  0.166534"
      ]
     },
     "execution_count": 25,
     "metadata": {},
     "output_type": "execute_result"
    }
   ],
   "source": [
    "#show result\n",
    "df_2013q1.head(3)"
   ]
  },
  {
   "cell_type": "code",
   "execution_count": 26,
   "metadata": {},
   "outputs": [
    {
     "data": {
      "text/html": [
       "<div>\n",
       "<style scoped>\n",
       "    .dataframe tbody tr th:only-of-type {\n",
       "        vertical-align: middle;\n",
       "    }\n",
       "\n",
       "    .dataframe tbody tr th {\n",
       "        vertical-align: top;\n",
       "    }\n",
       "\n",
       "    .dataframe thead th {\n",
       "        text-align: right;\n",
       "    }\n",
       "</style>\n",
       "<table border=\"1\" class=\"dataframe\">\n",
       "  <thead>\n",
       "    <tr style=\"text-align: right;\">\n",
       "      <th></th>\n",
       "      <th>0</th>\n",
       "      <th>1</th>\n",
       "    </tr>\n",
       "  </thead>\n",
       "  <tbody>\n",
       "    <tr>\n",
       "      <th>13</th>\n",
       "      <td>bank</td>\n",
       "      <td>0.097197</td>\n",
       "    </tr>\n",
       "  </tbody>\n",
       "</table>\n",
       "</div>"
      ],
      "text/plain": [
       "       0         1\n",
       "13  bank  0.097197"
      ]
     },
     "execution_count": 26,
     "metadata": {},
     "output_type": "execute_result"
    }
   ],
   "source": [
    "#add topic words into df_2013q1\n",
    "df_2013q1[df_2013q1[0] == 'bank']"
   ]
  },
  {
   "cell_type": "code",
   "execution_count": 27,
   "metadata": {},
   "outputs": [
    {
     "data": {
      "text/html": [
       "<div>\n",
       "<style scoped>\n",
       "    .dataframe tbody tr th:only-of-type {\n",
       "        vertical-align: middle;\n",
       "    }\n",
       "\n",
       "    .dataframe tbody tr th {\n",
       "        vertical-align: top;\n",
       "    }\n",
       "\n",
       "    .dataframe thead th {\n",
       "        text-align: right;\n",
       "    }\n",
       "</style>\n",
       "<table border=\"1\" class=\"dataframe\">\n",
       "  <thead>\n",
       "    <tr style=\"text-align: right;\">\n",
       "      <th></th>\n",
       "      <th>0</th>\n",
       "      <th>1</th>\n",
       "    </tr>\n",
       "  </thead>\n",
       "  <tbody>\n",
       "    <tr>\n",
       "      <th>2</th>\n",
       "      <td>percent</td>\n",
       "      <td>0.166534</td>\n",
       "    </tr>\n",
       "  </tbody>\n",
       "</table>\n",
       "</div>"
      ],
      "text/plain": [
       "         0         1\n",
       "2  percent  0.166534"
      ]
     },
     "execution_count": 27,
     "metadata": {},
     "output_type": "execute_result"
    }
   ],
   "source": [
    "df_2013q1[df_2013q1[0] == 'percent']"
   ]
  },
  {
   "cell_type": "code",
   "execution_count": 28,
   "metadata": {},
   "outputs": [
    {
     "data": {
      "text/html": [
       "<div>\n",
       "<style scoped>\n",
       "    .dataframe tbody tr th:only-of-type {\n",
       "        vertical-align: middle;\n",
       "    }\n",
       "\n",
       "    .dataframe tbody tr th {\n",
       "        vertical-align: top;\n",
       "    }\n",
       "\n",
       "    .dataframe thead th {\n",
       "        text-align: right;\n",
       "    }\n",
       "</style>\n",
       "<table border=\"1\" class=\"dataframe\">\n",
       "  <thead>\n",
       "    <tr style=\"text-align: right;\">\n",
       "      <th></th>\n",
       "      <th>0</th>\n",
       "      <th>1</th>\n",
       "    </tr>\n",
       "  </thead>\n",
       "  <tbody>\n",
       "    <tr>\n",
       "      <th>48</th>\n",
       "      <td>sales</td>\n",
       "      <td>0.064221</td>\n",
       "    </tr>\n",
       "  </tbody>\n",
       "</table>\n",
       "</div>"
      ],
      "text/plain": [
       "        0         1\n",
       "48  sales  0.064221"
      ]
     },
     "execution_count": 28,
     "metadata": {},
     "output_type": "execute_result"
    }
   ],
   "source": [
    "df_2013q1[df_2013q1[0] == 'sales']"
   ]
  },
  {
   "cell_type": "code",
   "execution_count": 29,
   "metadata": {},
   "outputs": [
    {
     "data": {
      "text/html": [
       "<div>\n",
       "<style scoped>\n",
       "    .dataframe tbody tr th:only-of-type {\n",
       "        vertical-align: middle;\n",
       "    }\n",
       "\n",
       "    .dataframe tbody tr th {\n",
       "        vertical-align: top;\n",
       "    }\n",
       "\n",
       "    .dataframe thead th {\n",
       "        text-align: right;\n",
       "    }\n",
       "</style>\n",
       "<table border=\"1\" class=\"dataframe\">\n",
       "  <thead>\n",
       "    <tr style=\"text-align: right;\">\n",
       "      <th></th>\n",
       "      <th>0</th>\n",
       "      <th>1</th>\n",
       "    </tr>\n",
       "  </thead>\n",
       "  <tbody>\n",
       "    <tr>\n",
       "      <th>1102</th>\n",
       "      <td>euros</td>\n",
       "      <td>0.00728</td>\n",
       "    </tr>\n",
       "  </tbody>\n",
       "</table>\n",
       "</div>"
      ],
      "text/plain": [
       "          0        1\n",
       "1102  euros  0.00728"
      ]
     },
     "execution_count": 29,
     "metadata": {},
     "output_type": "execute_result"
    }
   ],
   "source": [
    "#index over 500\n",
    "df_2013q1[df_2013q1[0] == 'euros']"
   ]
  },
  {
   "cell_type": "code",
   "execution_count": 30,
   "metadata": {},
   "outputs": [
    {
     "data": {
      "text/html": [
       "<div>\n",
       "<style scoped>\n",
       "    .dataframe tbody tr th:only-of-type {\n",
       "        vertical-align: middle;\n",
       "    }\n",
       "\n",
       "    .dataframe tbody tr th {\n",
       "        vertical-align: top;\n",
       "    }\n",
       "\n",
       "    .dataframe thead th {\n",
       "        text-align: right;\n",
       "    }\n",
       "</style>\n",
       "<table border=\"1\" class=\"dataframe\">\n",
       "  <thead>\n",
       "    <tr style=\"text-align: right;\">\n",
       "      <th></th>\n",
       "      <th>0</th>\n",
       "      <th>1</th>\n",
       "    </tr>\n",
       "  </thead>\n",
       "  <tbody>\n",
       "    <tr>\n",
       "      <th>21</th>\n",
       "      <td>company</td>\n",
       "      <td>0.083227</td>\n",
       "    </tr>\n",
       "  </tbody>\n",
       "</table>\n",
       "</div>"
      ],
      "text/plain": [
       "          0         1\n",
       "21  company  0.083227"
      ]
     },
     "execution_count": 30,
     "metadata": {},
     "output_type": "execute_result"
    }
   ],
   "source": [
    "df_2013q1[df_2013q1[0] == 'company']"
   ]
  },
  {
   "cell_type": "code",
   "execution_count": 31,
   "metadata": {},
   "outputs": [
    {
     "data": {
      "text/html": [
       "<div>\n",
       "<style scoped>\n",
       "    .dataframe tbody tr th:only-of-type {\n",
       "        vertical-align: middle;\n",
       "    }\n",
       "\n",
       "    .dataframe tbody tr th {\n",
       "        vertical-align: top;\n",
       "    }\n",
       "\n",
       "    .dataframe thead th {\n",
       "        text-align: right;\n",
       "    }\n",
       "</style>\n",
       "<table border=\"1\" class=\"dataframe\">\n",
       "  <thead>\n",
       "    <tr style=\"text-align: right;\">\n",
       "      <th></th>\n",
       "      <th>0</th>\n",
       "      <th>1</th>\n",
       "    </tr>\n",
       "  </thead>\n",
       "  <tbody>\n",
       "    <tr>\n",
       "      <th>765</th>\n",
       "      <td>russian</td>\n",
       "      <td>0.010349</td>\n",
       "    </tr>\n",
       "  </tbody>\n",
       "</table>\n",
       "</div>"
      ],
      "text/plain": [
       "           0         1\n",
       "765  russian  0.010349"
      ]
     },
     "execution_count": 31,
     "metadata": {},
     "output_type": "execute_result"
    }
   ],
   "source": [
    "#index over 500\n",
    "df_2013q1[df_2013q1[0] == 'russian']"
   ]
  },
  {
   "cell_type": "code",
   "execution_count": 32,
   "metadata": {},
   "outputs": [
    {
     "data": {
      "text/html": [
       "<div>\n",
       "<style scoped>\n",
       "    .dataframe tbody tr th:only-of-type {\n",
       "        vertical-align: middle;\n",
       "    }\n",
       "\n",
       "    .dataframe tbody tr th {\n",
       "        vertical-align: top;\n",
       "    }\n",
       "\n",
       "    .dataframe thead th {\n",
       "        text-align: right;\n",
       "    }\n",
       "</style>\n",
       "<table border=\"1\" class=\"dataframe\">\n",
       "  <thead>\n",
       "    <tr style=\"text-align: right;\">\n",
       "      <th></th>\n",
       "      <th>0</th>\n",
       "      <th>1</th>\n",
       "    </tr>\n",
       "  </thead>\n",
       "  <tbody>\n",
       "    <tr>\n",
       "      <th>79</th>\n",
       "      <td>apple</td>\n",
       "      <td>0.049936</td>\n",
       "    </tr>\n",
       "  </tbody>\n",
       "</table>\n",
       "</div>"
      ],
      "text/plain": [
       "        0         1\n",
       "79  apple  0.049936"
      ]
     },
     "execution_count": 32,
     "metadata": {},
     "output_type": "execute_result"
    }
   ],
   "source": [
    "df_2013q1[df_2013q1[0] == 'apple']"
   ]
  },
  {
   "cell_type": "code",
   "execution_count": 33,
   "metadata": {},
   "outputs": [
    {
     "data": {
      "text/html": [
       "<div>\n",
       "<style scoped>\n",
       "    .dataframe tbody tr th:only-of-type {\n",
       "        vertical-align: middle;\n",
       "    }\n",
       "\n",
       "    .dataframe tbody tr th {\n",
       "        vertical-align: top;\n",
       "    }\n",
       "\n",
       "    .dataframe thead th {\n",
       "        text-align: right;\n",
       "    }\n",
       "</style>\n",
       "<table border=\"1\" class=\"dataframe\">\n",
       "  <thead>\n",
       "    <tr style=\"text-align: right;\">\n",
       "      <th></th>\n",
       "      <th>0</th>\n",
       "      <th>1</th>\n",
       "    </tr>\n",
       "  </thead>\n",
       "  <tbody>\n",
       "    <tr>\n",
       "      <th>637</th>\n",
       "      <td>dell</td>\n",
       "      <td>0.012396</td>\n",
       "    </tr>\n",
       "  </tbody>\n",
       "</table>\n",
       "</div>"
      ],
      "text/plain": [
       "        0         1\n",
       "637  dell  0.012396"
      ]
     },
     "execution_count": 33,
     "metadata": {},
     "output_type": "execute_result"
    }
   ],
   "source": [
    "#index over 500\n",
    "df_2013q1[df_2013q1[0] == 'dell']"
   ]
  },
  {
   "cell_type": "code",
   "execution_count": 34,
   "metadata": {},
   "outputs": [
    {
     "data": {
      "text/html": [
       "<div>\n",
       "<style scoped>\n",
       "    .dataframe tbody tr th:only-of-type {\n",
       "        vertical-align: middle;\n",
       "    }\n",
       "\n",
       "    .dataframe tbody tr th {\n",
       "        vertical-align: top;\n",
       "    }\n",
       "\n",
       "    .dataframe thead th {\n",
       "        text-align: right;\n",
       "    }\n",
       "</style>\n",
       "<table border=\"1\" class=\"dataframe\">\n",
       "  <thead>\n",
       "    <tr style=\"text-align: right;\">\n",
       "      <th></th>\n",
       "      <th>0</th>\n",
       "      <th>1</th>\n",
       "    </tr>\n",
       "  </thead>\n",
       "  <tbody>\n",
       "    <tr>\n",
       "      <th>1523</th>\n",
       "      <td>foreclosure</td>\n",
       "      <td>0.005076</td>\n",
       "    </tr>\n",
       "  </tbody>\n",
       "</table>\n",
       "</div>"
      ],
      "text/plain": [
       "                0         1\n",
       "1523  foreclosure  0.005076"
      ]
     },
     "execution_count": 34,
     "metadata": {},
     "output_type": "execute_result"
    }
   ],
   "source": [
    "#index over 500\n",
    "df_2013q1[df_2013q1[0] == 'foreclosure']"
   ]
  },
  {
   "cell_type": "code",
   "execution_count": 35,
   "metadata": {},
   "outputs": [
    {
     "data": {
      "text/html": [
       "<div>\n",
       "<style scoped>\n",
       "    .dataframe tbody tr th:only-of-type {\n",
       "        vertical-align: middle;\n",
       "    }\n",
       "\n",
       "    .dataframe tbody tr th {\n",
       "        vertical-align: top;\n",
       "    }\n",
       "\n",
       "    .dataframe thead th {\n",
       "        text-align: right;\n",
       "    }\n",
       "</style>\n",
       "<table border=\"1\" class=\"dataframe\">\n",
       "  <thead>\n",
       "    <tr style=\"text-align: right;\">\n",
       "      <th></th>\n",
       "      <th>0</th>\n",
       "      <th>1</th>\n",
       "    </tr>\n",
       "  </thead>\n",
       "  <tbody>\n",
       "    <tr>\n",
       "      <th>180</th>\n",
       "      <td>countries</td>\n",
       "      <td>0.030576</td>\n",
       "    </tr>\n",
       "  </tbody>\n",
       "</table>\n",
       "</div>"
      ],
      "text/plain": [
       "             0         1\n",
       "180  countries  0.030576"
      ]
     },
     "execution_count": 35,
     "metadata": {},
     "output_type": "execute_result"
    }
   ],
   "source": [
    "df_2013q1[df_2013q1[0] == 'countries']"
   ]
  },
  {
   "cell_type": "code",
   "execution_count": 36,
   "metadata": {},
   "outputs": [
    {
     "data": {
      "text/html": [
       "<div>\n",
       "<style scoped>\n",
       "    .dataframe tbody tr th:only-of-type {\n",
       "        vertical-align: middle;\n",
       "    }\n",
       "\n",
       "    .dataframe tbody tr th {\n",
       "        vertical-align: top;\n",
       "    }\n",
       "\n",
       "    .dataframe thead th {\n",
       "        text-align: right;\n",
       "    }\n",
       "</style>\n",
       "<table border=\"1\" class=\"dataframe\">\n",
       "  <thead>\n",
       "    <tr style=\"text-align: right;\">\n",
       "      <th></th>\n",
       "      <th>0</th>\n",
       "      <th>1</th>\n",
       "    </tr>\n",
       "  </thead>\n",
       "  <tbody>\n",
       "    <tr>\n",
       "      <th>174</th>\n",
       "      <td>obama</td>\n",
       "      <td>0.03215</td>\n",
       "    </tr>\n",
       "  </tbody>\n",
       "</table>\n",
       "</div>"
      ],
      "text/plain": [
       "         0        1\n",
       "174  obama  0.03215"
      ]
     },
     "execution_count": 36,
     "metadata": {},
     "output_type": "execute_result"
    }
   ],
   "source": [
    "df_2013q1[df_2013q1[0] == 'obama']"
   ]
  },
  {
   "cell_type": "code",
   "execution_count": 37,
   "metadata": {},
   "outputs": [
    {
     "data": {
      "text/html": [
       "<div>\n",
       "<style scoped>\n",
       "    .dataframe tbody tr th:only-of-type {\n",
       "        vertical-align: middle;\n",
       "    }\n",
       "\n",
       "    .dataframe tbody tr th {\n",
       "        vertical-align: top;\n",
       "    }\n",
       "\n",
       "    .dataframe thead th {\n",
       "        text-align: right;\n",
       "    }\n",
       "</style>\n",
       "<table border=\"1\" class=\"dataframe\">\n",
       "  <thead>\n",
       "    <tr style=\"text-align: right;\">\n",
       "      <th></th>\n",
       "      <th>0</th>\n",
       "      <th>1</th>\n",
       "    </tr>\n",
       "  </thead>\n",
       "  <tbody>\n",
       "    <tr>\n",
       "      <th>91</th>\n",
       "      <td>gold</td>\n",
       "      <td>0.044506</td>\n",
       "    </tr>\n",
       "  </tbody>\n",
       "</table>\n",
       "</div>"
      ],
      "text/plain": [
       "       0         1\n",
       "91  gold  0.044506"
      ]
     },
     "execution_count": 37,
     "metadata": {},
     "output_type": "execute_result"
    }
   ],
   "source": [
    "df_2013q1[df_2013q1[0] == 'gold']"
   ]
  },
  {
   "cell_type": "code",
   "execution_count": 38,
   "metadata": {},
   "outputs": [
    {
     "data": {
      "text/html": [
       "<div>\n",
       "<style scoped>\n",
       "    .dataframe tbody tr th:only-of-type {\n",
       "        vertical-align: middle;\n",
       "    }\n",
       "\n",
       "    .dataframe tbody tr th {\n",
       "        vertical-align: top;\n",
       "    }\n",
       "\n",
       "    .dataframe thead th {\n",
       "        text-align: right;\n",
       "    }\n",
       "</style>\n",
       "<table border=\"1\" class=\"dataframe\">\n",
       "  <thead>\n",
       "    <tr style=\"text-align: right;\">\n",
       "      <th></th>\n",
       "      <th>0</th>\n",
       "      <th>1</th>\n",
       "    </tr>\n",
       "  </thead>\n",
       "  <tbody>\n",
       "    <tr>\n",
       "      <th>102</th>\n",
       "      <td>oil</td>\n",
       "      <td>0.043129</td>\n",
       "    </tr>\n",
       "  </tbody>\n",
       "</table>\n",
       "</div>"
      ],
      "text/plain": [
       "       0         1\n",
       "102  oil  0.043129"
      ]
     },
     "execution_count": 38,
     "metadata": {},
     "output_type": "execute_result"
    }
   ],
   "source": [
    "df_2013q1[df_2013q1[0] == 'oil']"
   ]
  },
  {
   "cell_type": "code",
   "execution_count": 39,
   "metadata": {},
   "outputs": [
    {
     "data": {
      "text/html": [
       "<div>\n",
       "<style scoped>\n",
       "    .dataframe tbody tr th:only-of-type {\n",
       "        vertical-align: middle;\n",
       "    }\n",
       "\n",
       "    .dataframe tbody tr th {\n",
       "        vertical-align: top;\n",
       "    }\n",
       "\n",
       "    .dataframe thead th {\n",
       "        text-align: right;\n",
       "    }\n",
       "</style>\n",
       "<table border=\"1\" class=\"dataframe\">\n",
       "  <thead>\n",
       "    <tr style=\"text-align: right;\">\n",
       "      <th></th>\n",
       "      <th>0</th>\n",
       "      <th>1</th>\n",
       "    </tr>\n",
       "  </thead>\n",
       "  <tbody>\n",
       "    <tr>\n",
       "      <th>4</th>\n",
       "      <td>market</td>\n",
       "      <td>0.162913</td>\n",
       "    </tr>\n",
       "  </tbody>\n",
       "</table>\n",
       "</div>"
      ],
      "text/plain": [
       "        0         1\n",
       "4  market  0.162913"
      ]
     },
     "execution_count": 39,
     "metadata": {},
     "output_type": "execute_result"
    }
   ],
   "source": [
    "df_2013q1[df_2013q1[0] == 'market']"
   ]
  },
  {
   "cell_type": "code",
   "execution_count": 40,
   "metadata": {},
   "outputs": [
    {
     "data": {
      "text/html": [
       "<div>\n",
       "<style scoped>\n",
       "    .dataframe tbody tr th:only-of-type {\n",
       "        vertical-align: middle;\n",
       "    }\n",
       "\n",
       "    .dataframe tbody tr th {\n",
       "        vertical-align: top;\n",
       "    }\n",
       "\n",
       "    .dataframe thead th {\n",
       "        text-align: right;\n",
       "    }\n",
       "</style>\n",
       "<table border=\"1\" class=\"dataframe\">\n",
       "  <thead>\n",
       "    <tr style=\"text-align: right;\">\n",
       "      <th></th>\n",
       "      <th>0</th>\n",
       "      <th>1</th>\n",
       "    </tr>\n",
       "  </thead>\n",
       "  <tbody>\n",
       "    <tr>\n",
       "      <th>58</th>\n",
       "      <td>china</td>\n",
       "      <td>0.058948</td>\n",
       "    </tr>\n",
       "  </tbody>\n",
       "</table>\n",
       "</div>"
      ],
      "text/plain": [
       "        0         1\n",
       "58  china  0.058948"
      ]
     },
     "execution_count": 40,
     "metadata": {},
     "output_type": "execute_result"
    }
   ],
   "source": [
    "df_2013q1[df_2013q1[0] == 'china']"
   ]
  },
  {
   "cell_type": "code",
   "execution_count": 41,
   "metadata": {},
   "outputs": [
    {
     "data": {
      "text/html": [
       "<div>\n",
       "<style scoped>\n",
       "    .dataframe tbody tr th:only-of-type {\n",
       "        vertical-align: middle;\n",
       "    }\n",
       "\n",
       "    .dataframe tbody tr th {\n",
       "        vertical-align: top;\n",
       "    }\n",
       "\n",
       "    .dataframe thead th {\n",
       "        text-align: right;\n",
       "    }\n",
       "</style>\n",
       "<table border=\"1\" class=\"dataframe\">\n",
       "  <thead>\n",
       "    <tr style=\"text-align: right;\">\n",
       "      <th></th>\n",
       "      <th>0</th>\n",
       "      <th>1</th>\n",
       "    </tr>\n",
       "  </thead>\n",
       "  <tbody>\n",
       "    <tr>\n",
       "      <th>23</th>\n",
       "      <td>financial</td>\n",
       "      <td>0.082362</td>\n",
       "    </tr>\n",
       "  </tbody>\n",
       "</table>\n",
       "</div>"
      ],
      "text/plain": [
       "            0         1\n",
       "23  financial  0.082362"
      ]
     },
     "execution_count": 41,
     "metadata": {},
     "output_type": "execute_result"
    }
   ],
   "source": [
    "df_2013q1[df_2013q1[0] == 'financial']"
   ]
  },
  {
   "cell_type": "code",
   "execution_count": 42,
   "metadata": {},
   "outputs": [
    {
     "data": {
      "text/html": [
       "<div>\n",
       "<style scoped>\n",
       "    .dataframe tbody tr th:only-of-type {\n",
       "        vertical-align: middle;\n",
       "    }\n",
       "\n",
       "    .dataframe tbody tr th {\n",
       "        vertical-align: top;\n",
       "    }\n",
       "\n",
       "    .dataframe thead th {\n",
       "        text-align: right;\n",
       "    }\n",
       "</style>\n",
       "<table border=\"1\" class=\"dataframe\">\n",
       "  <thead>\n",
       "    <tr style=\"text-align: right;\">\n",
       "      <th></th>\n",
       "      <th>0</th>\n",
       "      <th>1</th>\n",
       "    </tr>\n",
       "  </thead>\n",
       "  <tbody>\n",
       "    <tr>\n",
       "      <th>1066</th>\n",
       "      <td>iphone</td>\n",
       "      <td>0.007516</td>\n",
       "    </tr>\n",
       "  </tbody>\n",
       "</table>\n",
       "</div>"
      ],
      "text/plain": [
       "           0         1\n",
       "1066  iphone  0.007516"
      ]
     },
     "execution_count": 42,
     "metadata": {},
     "output_type": "execute_result"
    }
   ],
   "source": [
    "##在500+\n",
    "df_2013q1[df_2013q1[0] == 'iphone']"
   ]
  },
  {
   "cell_type": "markdown",
   "metadata": {},
   "source": [
    "### Add Topic \"euros\", \"russian\", \"dell\", \"foreclosure\", \"iphone\""
   ]
  },
  {
   "cell_type": "code",
   "execution_count": 43,
   "metadata": {},
   "outputs": [],
   "source": [
    "#because we had sorted before ,we can get top 500 from dataframe\n",
    "feature_df = df_2013q1[0:500]"
   ]
  },
  {
   "cell_type": "code",
   "execution_count": 44,
   "metadata": {},
   "outputs": [],
   "source": [
    "#add topic words into dataframe\n",
    "feature_df = feature_df.append(df_2013q1[765:766])"
   ]
  },
  {
   "cell_type": "code",
   "execution_count": 45,
   "metadata": {},
   "outputs": [],
   "source": [
    "feature_df = feature_df.append(df_2013q1[1102:1103])"
   ]
  },
  {
   "cell_type": "code",
   "execution_count": 46,
   "metadata": {},
   "outputs": [],
   "source": [
    "feature_df = feature_df.append(df_2013q1[637:638])"
   ]
  },
  {
   "cell_type": "code",
   "execution_count": 47,
   "metadata": {},
   "outputs": [],
   "source": [
    "feature_df = feature_df.append(df_2013q1[1523:1524])"
   ]
  },
  {
   "cell_type": "code",
   "execution_count": 48,
   "metadata": {},
   "outputs": [],
   "source": [
    "feature_df = feature_df.append(df_2013q1[1066:1067])"
   ]
  },
  {
   "cell_type": "code",
   "execution_count": 49,
   "metadata": {},
   "outputs": [
    {
     "data": {
      "text/html": [
       "<div>\n",
       "<style scoped>\n",
       "    .dataframe tbody tr th:only-of-type {\n",
       "        vertical-align: middle;\n",
       "    }\n",
       "\n",
       "    .dataframe tbody tr th {\n",
       "        vertical-align: top;\n",
       "    }\n",
       "\n",
       "    .dataframe thead th {\n",
       "        text-align: right;\n",
       "    }\n",
       "</style>\n",
       "<table border=\"1\" class=\"dataframe\">\n",
       "  <thead>\n",
       "    <tr style=\"text-align: right;\">\n",
       "      <th></th>\n",
       "      <th>0</th>\n",
       "      <th>1</th>\n",
       "    </tr>\n",
       "  </thead>\n",
       "  <tbody>\n",
       "    <tr>\n",
       "      <th>0</th>\n",
       "      <td>year</td>\n",
       "      <td>0.201241</td>\n",
       "    </tr>\n",
       "    <tr>\n",
       "      <th>1</th>\n",
       "      <td>would</td>\n",
       "      <td>0.178103</td>\n",
       "    </tr>\n",
       "    <tr>\n",
       "      <th>2</th>\n",
       "      <td>percent</td>\n",
       "      <td>0.166534</td>\n",
       "    </tr>\n",
       "    <tr>\n",
       "      <th>3</th>\n",
       "      <td>new</td>\n",
       "      <td>0.166179</td>\n",
       "    </tr>\n",
       "    <tr>\n",
       "      <th>4</th>\n",
       "      <td>market</td>\n",
       "      <td>0.162913</td>\n",
       "    </tr>\n",
       "    <tr>\n",
       "      <th>...</th>\n",
       "      <td>...</td>\n",
       "      <td>...</td>\n",
       "    </tr>\n",
       "    <tr>\n",
       "      <th>765</th>\n",
       "      <td>russian</td>\n",
       "      <td>0.010349</td>\n",
       "    </tr>\n",
       "    <tr>\n",
       "      <th>1102</th>\n",
       "      <td>euros</td>\n",
       "      <td>0.007280</td>\n",
       "    </tr>\n",
       "    <tr>\n",
       "      <th>637</th>\n",
       "      <td>dell</td>\n",
       "      <td>0.012396</td>\n",
       "    </tr>\n",
       "    <tr>\n",
       "      <th>1523</th>\n",
       "      <td>foreclosure</td>\n",
       "      <td>0.005076</td>\n",
       "    </tr>\n",
       "    <tr>\n",
       "      <th>1066</th>\n",
       "      <td>iphone</td>\n",
       "      <td>0.007516</td>\n",
       "    </tr>\n",
       "  </tbody>\n",
       "</table>\n",
       "<p>505 rows × 2 columns</p>\n",
       "</div>"
      ],
      "text/plain": [
       "                0         1\n",
       "0            year  0.201241\n",
       "1           would  0.178103\n",
       "2         percent  0.166534\n",
       "3             new  0.166179\n",
       "4          market  0.162913\n",
       "...           ...       ...\n",
       "765       russian  0.010349\n",
       "1102        euros  0.007280\n",
       "637          dell  0.012396\n",
       "1523  foreclosure  0.005076\n",
       "1066       iphone  0.007516\n",
       "\n",
       "[505 rows x 2 columns]"
      ]
     },
     "execution_count": 49,
     "metadata": {},
     "output_type": "execute_result"
    }
   ],
   "source": [
    "#show result and please ignore index\n",
    "feature_df"
   ]
  },
  {
   "cell_type": "code",
   "execution_count": 50,
   "metadata": {},
   "outputs": [],
   "source": [
    "#reshape dataframe\n",
    "df2 = feature_df.stack()"
   ]
  },
  {
   "cell_type": "code",
   "execution_count": 51,
   "metadata": {},
   "outputs": [],
   "source": [
    "#reshape dataframe\n",
    "df3 = df2.unstack(0)"
   ]
  },
  {
   "cell_type": "code",
   "execution_count": 52,
   "metadata": {},
   "outputs": [],
   "source": [
    "#get keywords list \n",
    "columns = []\n",
    "for i in range(0,505):\n",
    "    columns.append(df3.iloc[0,i])"
   ]
  },
  {
   "cell_type": "code",
   "execution_count": 53,
   "metadata": {},
   "outputs": [
    {
     "data": {
      "text/plain": [
       "505"
      ]
     },
     "execution_count": 53,
     "metadata": {},
     "output_type": "execute_result"
    }
   ],
   "source": [
    "len(columns)"
   ]
  },
  {
   "cell_type": "code",
   "execution_count": 54,
   "metadata": {},
   "outputs": [],
   "source": [
    "#use keywords to name columns\n",
    "df3.columns = columns"
   ]
  },
  {
   "cell_type": "code",
   "execution_count": 55,
   "metadata": {},
   "outputs": [],
   "source": [
    "#get the final dataframe \n",
    "feature_q1 = df3[1:2]"
   ]
  },
  {
   "cell_type": "code",
   "execution_count": 56,
   "metadata": {},
   "outputs": [
    {
     "data": {
      "text/html": [
       "<div>\n",
       "<style scoped>\n",
       "    .dataframe tbody tr th:only-of-type {\n",
       "        vertical-align: middle;\n",
       "    }\n",
       "\n",
       "    .dataframe tbody tr th {\n",
       "        vertical-align: top;\n",
       "    }\n",
       "\n",
       "    .dataframe thead th {\n",
       "        text-align: right;\n",
       "    }\n",
       "</style>\n",
       "<table border=\"1\" class=\"dataframe\">\n",
       "  <thead>\n",
       "    <tr style=\"text-align: right;\">\n",
       "      <th></th>\n",
       "      <th>year</th>\n",
       "      <th>would</th>\n",
       "      <th>percent</th>\n",
       "      <th>new</th>\n",
       "      <th>market</th>\n",
       "      <th>said</th>\n",
       "      <th>one</th>\n",
       "      <th>also</th>\n",
       "      <th>time</th>\n",
       "      <th>last</th>\n",
       "      <th>...</th>\n",
       "      <th>cypriot</th>\n",
       "      <th>david</th>\n",
       "      <th>using</th>\n",
       "      <th>cliff</th>\n",
       "      <th>instead</th>\n",
       "      <th>russian</th>\n",
       "      <th>euros</th>\n",
       "      <th>dell</th>\n",
       "      <th>foreclosure</th>\n",
       "      <th>iphone</th>\n",
       "    </tr>\n",
       "  </thead>\n",
       "  <tbody>\n",
       "    <tr>\n",
       "      <th>1</th>\n",
       "      <td>0.201241</td>\n",
       "      <td>0.178103</td>\n",
       "      <td>0.166534</td>\n",
       "      <td>0.166179</td>\n",
       "      <td>0.162913</td>\n",
       "      <td>0.156696</td>\n",
       "      <td>0.152525</td>\n",
       "      <td>0.122933</td>\n",
       "      <td>0.117345</td>\n",
       "      <td>0.115613</td>\n",
       "      <td>...</td>\n",
       "      <td>0.0151895</td>\n",
       "      <td>0.0151895</td>\n",
       "      <td>0.0151895</td>\n",
       "      <td>0.0151501</td>\n",
       "      <td>0.0151108</td>\n",
       "      <td>0.0103493</td>\n",
       "      <td>0.00727994</td>\n",
       "      <td>0.0123956</td>\n",
       "      <td>0.00507628</td>\n",
       "      <td>0.00751604</td>\n",
       "    </tr>\n",
       "  </tbody>\n",
       "</table>\n",
       "<p>1 rows × 505 columns</p>\n",
       "</div>"
      ],
      "text/plain": [
       "       year     would   percent       new    market      said       one  \\\n",
       "1  0.201241  0.178103  0.166534  0.166179  0.162913  0.156696  0.152525   \n",
       "\n",
       "       also      time      last  ...    cypriot      david      using  \\\n",
       "1  0.122933  0.117345  0.115613  ...  0.0151895  0.0151895  0.0151895   \n",
       "\n",
       "       cliff    instead    russian       euros       dell foreclosure  \\\n",
       "1  0.0151501  0.0151108  0.0103493  0.00727994  0.0123956  0.00507628   \n",
       "\n",
       "       iphone  \n",
       "1  0.00751604  \n",
       "\n",
       "[1 rows x 505 columns]"
      ]
     },
     "execution_count": 56,
     "metadata": {},
     "output_type": "execute_result"
    }
   ],
   "source": [
    "#show 2013 quatre 1' feature\n",
    "feature_q1"
   ]
  },
  {
   "cell_type": "markdown",
   "metadata": {},
   "source": [
    "### Process on all documents in 2013 Q1"
   ]
  },
  {
   "cell_type": "code",
   "execution_count": 57,
   "metadata": {},
   "outputs": [],
   "source": [
    "feawords = columns.copy()"
   ]
  },
  {
   "cell_type": "code",
   "execution_count": 58,
   "metadata": {},
   "outputs": [],
   "source": [
    "#define a function to select 505 words from feature_q1\n",
    "def deal_doc(df_dayi):\n",
    "    df_day = pd.DataFrame({0:[],1:[]})\n",
    "    for i in range(len(feawords)):\n",
    "        \n",
    "        if str(df_dayi[df_dayi[0] == 'aaabhwiska']) ==  str(df_dayi[df_dayi[0] == feawords[i] ]):\n",
    "            \n",
    "            df_day = df_day.append({0:feawords[i],1:0.0},ignore_index=True)\n",
    "        \n",
    "        else :\n",
    "            \n",
    "            df_day = df_day.append(df_dayi[df_dayi[0] == feawords[i]],ignore_index=True)\n",
    "        \n",
    "        \n",
    "    return df_day"
   ]
  },
  {
   "cell_type": "code",
   "execution_count": 59,
   "metadata": {},
   "outputs": [],
   "source": [
    "#feature_day0-----feature_day89 is the result from articles day by day\n",
    "namefea = locals()\n",
    "for i in range(0,90):\n",
    "    namefea['feature_day%s' % i ] = deal_doc(namefea['df_day%s' % i])"
   ]
  },
  {
   "cell_type": "code",
   "execution_count": 975,
   "metadata": {},
   "outputs": [
    {
     "data": {
      "text/html": [
       "<div>\n",
       "<style scoped>\n",
       "    .dataframe tbody tr th:only-of-type {\n",
       "        vertical-align: middle;\n",
       "    }\n",
       "\n",
       "    .dataframe tbody tr th {\n",
       "        vertical-align: top;\n",
       "    }\n",
       "\n",
       "    .dataframe thead th {\n",
       "        text-align: right;\n",
       "    }\n",
       "</style>\n",
       "<table border=\"1\" class=\"dataframe\">\n",
       "  <thead>\n",
       "    <tr style=\"text-align: right;\">\n",
       "      <th></th>\n",
       "      <th>year</th>\n",
       "      <th>would</th>\n",
       "      <th>percent</th>\n",
       "      <th>new</th>\n",
       "      <th>market</th>\n",
       "      <th>said</th>\n",
       "      <th>one</th>\n",
       "      <th>also</th>\n",
       "      <th>time</th>\n",
       "      <th>last</th>\n",
       "      <th>...</th>\n",
       "      <th>cypriot</th>\n",
       "      <th>david</th>\n",
       "      <th>using</th>\n",
       "      <th>cliff</th>\n",
       "      <th>instead</th>\n",
       "      <th>russian</th>\n",
       "      <th>euros</th>\n",
       "      <th>dell</th>\n",
       "      <th>foreclosure</th>\n",
       "      <th>iphone</th>\n",
       "    </tr>\n",
       "  </thead>\n",
       "  <tbody>\n",
       "    <tr>\n",
       "      <th>1</th>\n",
       "      <td>0.201241</td>\n",
       "      <td>0.178103</td>\n",
       "      <td>0.166534</td>\n",
       "      <td>0.166179</td>\n",
       "      <td>0.162913</td>\n",
       "      <td>0.156696</td>\n",
       "      <td>0.152525</td>\n",
       "      <td>0.122933</td>\n",
       "      <td>0.117345</td>\n",
       "      <td>0.115613</td>\n",
       "      <td>...</td>\n",
       "      <td>0.0151895</td>\n",
       "      <td>0.0151895</td>\n",
       "      <td>0.0151895</td>\n",
       "      <td>0.0151501</td>\n",
       "      <td>0.0151108</td>\n",
       "      <td>0.0103493</td>\n",
       "      <td>0.00727994</td>\n",
       "      <td>0.0123956</td>\n",
       "      <td>0.00507628</td>\n",
       "      <td>0.00751604</td>\n",
       "    </tr>\n",
       "  </tbody>\n",
       "</table>\n",
       "<p>1 rows × 505 columns</p>\n",
       "</div>"
      ],
      "text/plain": [
       "       year     would   percent       new    market      said       one  \\\n",
       "1  0.201241  0.178103  0.166534  0.166179  0.162913  0.156696  0.152525   \n",
       "\n",
       "       also      time      last  ...    cypriot      david      using  \\\n",
       "1  0.122933  0.117345  0.115613  ...  0.0151895  0.0151895  0.0151895   \n",
       "\n",
       "       cliff    instead    russian       euros       dell foreclosure  \\\n",
       "1  0.0151501  0.0151108  0.0103493  0.00727994  0.0123956  0.00507628   \n",
       "\n",
       "       iphone  \n",
       "1  0.00751604  \n",
       "\n",
       "[1 rows x 505 columns]"
      ]
     },
     "execution_count": 975,
     "metadata": {},
     "output_type": "execute_result"
    }
   ],
   "source": [
    "feature_q1"
   ]
  },
  {
   "cell_type": "code",
   "execution_count": 60,
   "metadata": {},
   "outputs": [],
   "source": [
    "#reshape dataframe\n",
    "def set_colunm(dataframe):\n",
    "    df1 = dataframe.stack()\n",
    "    df2 = df1.unstack(0)\n",
    "    df2.columns = columns\n",
    "    df_result = df2[1:2]\n",
    "    return df_result"
   ]
  },
  {
   "cell_type": "code",
   "execution_count": 61,
   "metadata": {},
   "outputs": [],
   "source": [
    "nameset = locals()\n",
    "for i in range(0,90):\n",
    "    nameset['feature_day%s'%i] = set_colunm(nameset['feature_day%s'%i])"
   ]
  },
  {
   "cell_type": "code",
   "execution_count": 62,
   "metadata": {},
   "outputs": [],
   "source": [
    "#add other articles's features into the final dataframe\n",
    "for i in range(0,90):\n",
    "    feature_q1 = feature_q1.append(nameset['feature_day%s'%i])"
   ]
  },
  {
   "cell_type": "code",
   "execution_count": 63,
   "metadata": {},
   "outputs": [],
   "source": [
    "#reset index\n",
    "feature_q1 = feature_q1.reset_index(drop = True)"
   ]
  },
  {
   "cell_type": "code",
   "execution_count": 64,
   "metadata": {},
   "outputs": [],
   "source": [
    "feature = feature_q1"
   ]
  },
  {
   "cell_type": "code",
   "execution_count": 65,
   "metadata": {},
   "outputs": [
    {
     "data": {
      "text/html": [
       "<div>\n",
       "<style scoped>\n",
       "    .dataframe tbody tr th:only-of-type {\n",
       "        vertical-align: middle;\n",
       "    }\n",
       "\n",
       "    .dataframe tbody tr th {\n",
       "        vertical-align: top;\n",
       "    }\n",
       "\n",
       "    .dataframe thead th {\n",
       "        text-align: right;\n",
       "    }\n",
       "</style>\n",
       "<table border=\"1\" class=\"dataframe\">\n",
       "  <thead>\n",
       "    <tr style=\"text-align: right;\">\n",
       "      <th></th>\n",
       "      <th>year</th>\n",
       "      <th>would</th>\n",
       "      <th>percent</th>\n",
       "      <th>new</th>\n",
       "      <th>market</th>\n",
       "      <th>said</th>\n",
       "      <th>one</th>\n",
       "      <th>also</th>\n",
       "      <th>time</th>\n",
       "      <th>last</th>\n",
       "      <th>...</th>\n",
       "      <th>cypriot</th>\n",
       "      <th>david</th>\n",
       "      <th>using</th>\n",
       "      <th>cliff</th>\n",
       "      <th>instead</th>\n",
       "      <th>russian</th>\n",
       "      <th>euros</th>\n",
       "      <th>dell</th>\n",
       "      <th>foreclosure</th>\n",
       "      <th>iphone</th>\n",
       "    </tr>\n",
       "  </thead>\n",
       "  <tbody>\n",
       "    <tr>\n",
       "      <th>0</th>\n",
       "      <td>0.201241</td>\n",
       "      <td>0.178103</td>\n",
       "      <td>0.166534</td>\n",
       "      <td>0.166179</td>\n",
       "      <td>0.162913</td>\n",
       "      <td>0.156696</td>\n",
       "      <td>0.152525</td>\n",
       "      <td>0.122933</td>\n",
       "      <td>0.117345</td>\n",
       "      <td>0.115613</td>\n",
       "      <td>...</td>\n",
       "      <td>0.0151895</td>\n",
       "      <td>0.0151895</td>\n",
       "      <td>0.0151895</td>\n",
       "      <td>0.0151501</td>\n",
       "      <td>0.0151108</td>\n",
       "      <td>0.0103493</td>\n",
       "      <td>0.00727994</td>\n",
       "      <td>0.0123956</td>\n",
       "      <td>0.00507628</td>\n",
       "      <td>0.00751604</td>\n",
       "    </tr>\n",
       "    <tr>\n",
       "      <th>1</th>\n",
       "      <td>0.133382</td>\n",
       "      <td>0.103263</td>\n",
       "      <td>0.0215132</td>\n",
       "      <td>0.0903554</td>\n",
       "      <td>0.271066</td>\n",
       "      <td>0.0344211</td>\n",
       "      <td>0.0731448</td>\n",
       "      <td>0.094658</td>\n",
       "      <td>0.0731448</td>\n",
       "      <td>0.0860528</td>\n",
       "      <td>...</td>\n",
       "      <td>0</td>\n",
       "      <td>0.00860528</td>\n",
       "      <td>0.00430264</td>\n",
       "      <td>0.0774475</td>\n",
       "      <td>0.00430264</td>\n",
       "      <td>0</td>\n",
       "      <td>0</td>\n",
       "      <td>0</td>\n",
       "      <td>0</td>\n",
       "      <td>0</td>\n",
       "    </tr>\n",
       "    <tr>\n",
       "      <th>2</th>\n",
       "      <td>0.202364</td>\n",
       "      <td>0.111032</td>\n",
       "      <td>0.146849</td>\n",
       "      <td>0.164757</td>\n",
       "      <td>0.0913326</td>\n",
       "      <td>0.100287</td>\n",
       "      <td>0.109241</td>\n",
       "      <td>0.103868</td>\n",
       "      <td>0.0787968</td>\n",
       "      <td>0.0823784</td>\n",
       "      <td>...</td>\n",
       "      <td>0</td>\n",
       "      <td>0.010745</td>\n",
       "      <td>0.00716334</td>\n",
       "      <td>0.121777</td>\n",
       "      <td>0.0125358</td>\n",
       "      <td>0.00179084</td>\n",
       "      <td>0.00179084</td>\n",
       "      <td>0</td>\n",
       "      <td>0</td>\n",
       "      <td>0</td>\n",
       "    </tr>\n",
       "    <tr>\n",
       "      <th>3</th>\n",
       "      <td>0.155651</td>\n",
       "      <td>0.137691</td>\n",
       "      <td>0.11574</td>\n",
       "      <td>0.171615</td>\n",
       "      <td>0.187579</td>\n",
       "      <td>0.045897</td>\n",
       "      <td>0.119731</td>\n",
       "      <td>0.0858075</td>\n",
       "      <td>0.0957851</td>\n",
       "      <td>0.0798209</td>\n",
       "      <td>...</td>\n",
       "      <td>0</td>\n",
       "      <td>0.0159642</td>\n",
       "      <td>0.00997762</td>\n",
       "      <td>0.0439015</td>\n",
       "      <td>0.0139687</td>\n",
       "      <td>0.00399105</td>\n",
       "      <td>0</td>\n",
       "      <td>0.00798209</td>\n",
       "      <td>0</td>\n",
       "      <td>0</td>\n",
       "    </tr>\n",
       "    <tr>\n",
       "      <th>4</th>\n",
       "      <td>0.283084</td>\n",
       "      <td>0.181797</td>\n",
       "      <td>0.192186</td>\n",
       "      <td>0.114273</td>\n",
       "      <td>0.148035</td>\n",
       "      <td>0.11687</td>\n",
       "      <td>0.0597334</td>\n",
       "      <td>0.0805102</td>\n",
       "      <td>0.0649276</td>\n",
       "      <td>0.109078</td>\n",
       "      <td>...</td>\n",
       "      <td>0</td>\n",
       "      <td>0.0129855</td>\n",
       "      <td>0.0103884</td>\n",
       "      <td>0.0467479</td>\n",
       "      <td>0.0129855</td>\n",
       "      <td>0.0025971</td>\n",
       "      <td>0</td>\n",
       "      <td>0</td>\n",
       "      <td>0</td>\n",
       "      <td>0.0155826</td>\n",
       "    </tr>\n",
       "    <tr>\n",
       "      <th>...</th>\n",
       "      <td>...</td>\n",
       "      <td>...</td>\n",
       "      <td>...</td>\n",
       "      <td>...</td>\n",
       "      <td>...</td>\n",
       "      <td>...</td>\n",
       "      <td>...</td>\n",
       "      <td>...</td>\n",
       "      <td>...</td>\n",
       "      <td>...</td>\n",
       "      <td>...</td>\n",
       "      <td>...</td>\n",
       "      <td>...</td>\n",
       "      <td>...</td>\n",
       "      <td>...</td>\n",
       "      <td>...</td>\n",
       "      <td>...</td>\n",
       "      <td>...</td>\n",
       "      <td>...</td>\n",
       "      <td>...</td>\n",
       "      <td>...</td>\n",
       "    </tr>\n",
       "    <tr>\n",
       "      <th>86</th>\n",
       "      <td>0.116043</td>\n",
       "      <td>0.151501</td>\n",
       "      <td>0.151501</td>\n",
       "      <td>0.125714</td>\n",
       "      <td>0.109596</td>\n",
       "      <td>0.135384</td>\n",
       "      <td>0.106373</td>\n",
       "      <td>0.0741388</td>\n",
       "      <td>0.13216</td>\n",
       "      <td>0.0967028</td>\n",
       "      <td>...</td>\n",
       "      <td>0.0386811</td>\n",
       "      <td>0.00967028</td>\n",
       "      <td>0.0161171</td>\n",
       "      <td>0</td>\n",
       "      <td>0.0161171</td>\n",
       "      <td>0.00322343</td>\n",
       "      <td>0.00322343</td>\n",
       "      <td>0.0161171</td>\n",
       "      <td>0</td>\n",
       "      <td>0</td>\n",
       "    </tr>\n",
       "    <tr>\n",
       "      <th>87</th>\n",
       "      <td>0.149319</td>\n",
       "      <td>0.109258</td>\n",
       "      <td>0.20759</td>\n",
       "      <td>0.138393</td>\n",
       "      <td>0.105616</td>\n",
       "      <td>0.131109</td>\n",
       "      <td>0.138393</td>\n",
       "      <td>0.105616</td>\n",
       "      <td>0.116542</td>\n",
       "      <td>0.142035</td>\n",
       "      <td>...</td>\n",
       "      <td>0.0291354</td>\n",
       "      <td>0.0145677</td>\n",
       "      <td>0.00728386</td>\n",
       "      <td>0.0109258</td>\n",
       "      <td>0.0109258</td>\n",
       "      <td>0.00364193</td>\n",
       "      <td>0.0327774</td>\n",
       "      <td>0.00364193</td>\n",
       "      <td>0.050987</td>\n",
       "      <td>0.00364193</td>\n",
       "    </tr>\n",
       "    <tr>\n",
       "      <th>88</th>\n",
       "      <td>0.0809809</td>\n",
       "      <td>0.103476</td>\n",
       "      <td>0.0854799</td>\n",
       "      <td>0.166461</td>\n",
       "      <td>0.166461</td>\n",
       "      <td>0.12597</td>\n",
       "      <td>0.116972</td>\n",
       "      <td>0.076482</td>\n",
       "      <td>0.157463</td>\n",
       "      <td>0.071983</td>\n",
       "      <td>...</td>\n",
       "      <td>0.00449894</td>\n",
       "      <td>0.0224947</td>\n",
       "      <td>0.00899788</td>\n",
       "      <td>0</td>\n",
       "      <td>0.0179958</td>\n",
       "      <td>0</td>\n",
       "      <td>0</td>\n",
       "      <td>0.00899788</td>\n",
       "      <td>0.0494883</td>\n",
       "      <td>0</td>\n",
       "    </tr>\n",
       "    <tr>\n",
       "      <th>89</th>\n",
       "      <td>0.0768775</td>\n",
       "      <td>0.145213</td>\n",
       "      <td>0.0640646</td>\n",
       "      <td>0.0811484</td>\n",
       "      <td>0.0726065</td>\n",
       "      <td>0.106774</td>\n",
       "      <td>0.0683355</td>\n",
       "      <td>0.0469807</td>\n",
       "      <td>0.0811484</td>\n",
       "      <td>0.0469807</td>\n",
       "      <td>...</td>\n",
       "      <td>0.0726065</td>\n",
       "      <td>0.00854194</td>\n",
       "      <td>0.0170839</td>\n",
       "      <td>0.0128129</td>\n",
       "      <td>0.00854194</td>\n",
       "      <td>0.00427097</td>\n",
       "      <td>0.0298968</td>\n",
       "      <td>0</td>\n",
       "      <td>0</td>\n",
       "      <td>0</td>\n",
       "    </tr>\n",
       "    <tr>\n",
       "      <th>90</th>\n",
       "      <td>0.100011</td>\n",
       "      <td>0.104012</td>\n",
       "      <td>0.0840094</td>\n",
       "      <td>0.0840094</td>\n",
       "      <td>0.156017</td>\n",
       "      <td>0.0920103</td>\n",
       "      <td>0.124014</td>\n",
       "      <td>0.0840094</td>\n",
       "      <td>0.0840094</td>\n",
       "      <td>0.0880099</td>\n",
       "      <td>...</td>\n",
       "      <td>0.0200022</td>\n",
       "      <td>0.0440049</td>\n",
       "      <td>0.00400045</td>\n",
       "      <td>0</td>\n",
       "      <td>0.0120013</td>\n",
       "      <td>0.0080009</td>\n",
       "      <td>0.0280031</td>\n",
       "      <td>0</td>\n",
       "      <td>0</td>\n",
       "      <td>0</td>\n",
       "    </tr>\n",
       "  </tbody>\n",
       "</table>\n",
       "<p>91 rows × 505 columns</p>\n",
       "</div>"
      ],
      "text/plain": [
       "         year     would    percent        new     market       said  \\\n",
       "0    0.201241  0.178103   0.166534   0.166179   0.162913   0.156696   \n",
       "1    0.133382  0.103263  0.0215132  0.0903554   0.271066  0.0344211   \n",
       "2    0.202364  0.111032   0.146849   0.164757  0.0913326   0.100287   \n",
       "3    0.155651  0.137691    0.11574   0.171615   0.187579   0.045897   \n",
       "4    0.283084  0.181797   0.192186   0.114273   0.148035    0.11687   \n",
       "..        ...       ...        ...        ...        ...        ...   \n",
       "86   0.116043  0.151501   0.151501   0.125714   0.109596   0.135384   \n",
       "87   0.149319  0.109258    0.20759   0.138393   0.105616   0.131109   \n",
       "88  0.0809809  0.103476  0.0854799   0.166461   0.166461    0.12597   \n",
       "89  0.0768775  0.145213  0.0640646  0.0811484  0.0726065   0.106774   \n",
       "90   0.100011  0.104012  0.0840094  0.0840094   0.156017  0.0920103   \n",
       "\n",
       "          one       also       time       last  ...     cypriot       david  \\\n",
       "0    0.152525   0.122933   0.117345   0.115613  ...   0.0151895   0.0151895   \n",
       "1   0.0731448   0.094658  0.0731448  0.0860528  ...           0  0.00860528   \n",
       "2    0.109241   0.103868  0.0787968  0.0823784  ...           0    0.010745   \n",
       "3    0.119731  0.0858075  0.0957851  0.0798209  ...           0   0.0159642   \n",
       "4   0.0597334  0.0805102  0.0649276   0.109078  ...           0   0.0129855   \n",
       "..        ...        ...        ...        ...  ...         ...         ...   \n",
       "86   0.106373  0.0741388    0.13216  0.0967028  ...   0.0386811  0.00967028   \n",
       "87   0.138393   0.105616   0.116542   0.142035  ...   0.0291354   0.0145677   \n",
       "88   0.116972   0.076482   0.157463   0.071983  ...  0.00449894   0.0224947   \n",
       "89  0.0683355  0.0469807  0.0811484  0.0469807  ...   0.0726065  0.00854194   \n",
       "90   0.124014  0.0840094  0.0840094  0.0880099  ...   0.0200022   0.0440049   \n",
       "\n",
       "         using      cliff     instead     russian       euros        dell  \\\n",
       "0    0.0151895  0.0151501   0.0151108   0.0103493  0.00727994   0.0123956   \n",
       "1   0.00430264  0.0774475  0.00430264           0           0           0   \n",
       "2   0.00716334   0.121777   0.0125358  0.00179084  0.00179084           0   \n",
       "3   0.00997762  0.0439015   0.0139687  0.00399105           0  0.00798209   \n",
       "4    0.0103884  0.0467479   0.0129855   0.0025971           0           0   \n",
       "..         ...        ...         ...         ...         ...         ...   \n",
       "86   0.0161171          0   0.0161171  0.00322343  0.00322343   0.0161171   \n",
       "87  0.00728386  0.0109258   0.0109258  0.00364193   0.0327774  0.00364193   \n",
       "88  0.00899788          0   0.0179958           0           0  0.00899788   \n",
       "89   0.0170839  0.0128129  0.00854194  0.00427097   0.0298968           0   \n",
       "90  0.00400045          0   0.0120013   0.0080009   0.0280031           0   \n",
       "\n",
       "   foreclosure      iphone  \n",
       "0   0.00507628  0.00751604  \n",
       "1            0           0  \n",
       "2            0           0  \n",
       "3            0           0  \n",
       "4            0   0.0155826  \n",
       "..         ...         ...  \n",
       "86           0           0  \n",
       "87    0.050987  0.00364193  \n",
       "88   0.0494883           0  \n",
       "89           0           0  \n",
       "90           0           0  \n",
       "\n",
       "[91 rows x 505 columns]"
      ]
     },
     "execution_count": 65,
     "metadata": {},
     "output_type": "execute_result"
    }
   ],
   "source": [
    "feature"
   ]
  },
  {
   "cell_type": "markdown",
   "metadata": {},
   "source": [
    "# PCA"
   ]
  },
  {
   "cell_type": "code",
   "execution_count": 210,
   "metadata": {},
   "outputs": [],
   "source": [
    "from sklearn.decomposition import PCA\n",
    "from sklearn.preprocessing import StandardScaler\n",
    "import numpy as np"
   ]
  },
  {
   "cell_type": "code",
   "execution_count": 66,
   "metadata": {},
   "outputs": [],
   "source": [
    "arrfea = feature.values"
   ]
  },
  {
   "cell_type": "code",
   "execution_count": 68,
   "metadata": {},
   "outputs": [],
   "source": [
    "X_scaler = StandardScaler()"
   ]
  },
  {
   "cell_type": "code",
   "execution_count": 69,
   "metadata": {},
   "outputs": [],
   "source": [
    "x = X_scaler.fit_transform(arrfea)"
   ]
  },
  {
   "cell_type": "code",
   "execution_count": 211,
   "metadata": {},
   "outputs": [],
   "source": [
    "#n_components, I try 0.9 0.5 0.2 and 2.\n",
    "#2D\n",
    "pca2 = PCA(n_components=2)"
   ]
  },
  {
   "cell_type": "code",
   "execution_count": 180,
   "metadata": {},
   "outputs": [],
   "source": [
    "#\n",
    "pca_score = []\n",
    "for i in np.arange(0.01,1,0.001):\n",
    "    #print (i)\n",
    "    pca_for = PCA(n_components=i)\n",
    "    pca_for.fit(x)\n",
    "    s = pca_for.explained_variance_ratio_\n",
    "    pca_score.append(s)"
   ]
  },
  {
   "cell_type": "code",
   "execution_count": 176,
   "metadata": {},
   "outputs": [
    {
     "data": {
      "text/plain": [
       "20"
      ]
     },
     "execution_count": 176,
     "metadata": {},
     "output_type": "execute_result"
    }
   ],
   "source": [
    "len(np.arange(0.01,1,0.05))"
   ]
  },
  {
   "cell_type": "code",
   "execution_count": 181,
   "metadata": {},
   "outputs": [],
   "source": [
    "arrnum = []\n",
    "arrcom = []\n",
    "for i in range(len(pca_score)):\n",
    "    arrnum.append(len(pca_score[i]))\n",
    "for j in np.arange(0.01,1,0.001):\n",
    "    arrcom.append(j)\n",
    "        "
   ]
  },
  {
   "cell_type": "code",
   "execution_count": 182,
   "metadata": {},
   "outputs": [
    {
     "data": {
      "text/plain": [
       "[<matplotlib.lines.Line2D at 0x1a302cd70c8>]"
      ]
     },
     "execution_count": 182,
     "metadata": {},
     "output_type": "execute_result"
    },
    {
     "data": {
      "image/png": "[encoded data removed]",
      "text/plain": [
       "<Figure size 432x288 with 1 Axes>"
      ]
     },
     "metadata": {
      "needs_background": "light"
     },
     "output_type": "display_data"
    }
   ],
   "source": [
    "plt.plot(arrcom,arrnum)"
   ]
  },
  {
   "cell_type": "code",
   "execution_count": 212,
   "metadata": {},
   "outputs": [
    {
     "data": {
      "text/plain": [
       "PCA(copy=True, iterated_power='auto', n_components=0.85, random_state=None,\n",
       "    svd_solver='auto', tol=0.0, whiten=False)"
      ]
     },
     "execution_count": 212,
     "metadata": {},
     "output_type": "execute_result"
    }
   ],
   "source": [
    "#according the slope ,the best n_components is 0.76\n",
    "pca = PCA(n_components=0.85)\n",
    "pca.fit(x)"
   ]
  },
  {
   "cell_type": "code",
   "execution_count": 98,
   "metadata": {},
   "outputs": [
    {
     "data": {
      "text/plain": [
       "PCA(copy=True, iterated_power='auto', n_components=0.2, random_state=None,\n",
       "    svd_solver='auto', tol=0.0, whiten=False)"
      ]
     },
     "execution_count": 98,
     "metadata": {},
     "output_type": "execute_result"
    }
   ],
   "source": [
    "pca1.fit(x)"
   ]
  },
  {
   "cell_type": "code",
   "execution_count": 213,
   "metadata": {},
   "outputs": [],
   "source": [
    "PCA = pca.transform(x)"
   ]
  },
  {
   "cell_type": "code",
   "execution_count": 189,
   "metadata": {},
   "outputs": [
    {
     "data": {
      "text/plain": [
       "PCA(copy=True, iterated_power='auto', n_components=2, random_state=None,\n",
       "    svd_solver='auto', tol=0.0, whiten=False)"
      ]
     },
     "execution_count": 189,
     "metadata": {},
     "output_type": "execute_result"
    }
   ],
   "source": [
    "pca2.fit(x)"
   ]
  },
  {
   "cell_type": "code",
   "execution_count": 190,
   "metadata": {},
   "outputs": [],
   "source": [
    "PCA_feature = pca2.transform(x)"
   ]
  },
  {
   "cell_type": "code",
   "execution_count": 75,
   "metadata": {},
   "outputs": [],
   "source": [
    "X = np.zeros(90)"
   ]
  },
  {
   "cell_type": "code",
   "execution_count": 76,
   "metadata": {},
   "outputs": [],
   "source": [
    "X = PCA_feature"
   ]
  },
  {
   "cell_type": "code",
   "execution_count": 77,
   "metadata": {},
   "outputs": [],
   "source": [
    "def draw_PCA(x , y):\n",
    "    plt.scatter(x , y)\n",
    "    plt.xlabel(\"x\")\n",
    "    plt.ylabel(\"y\")\n",
    "    plt.show()"
   ]
  },
  {
   "cell_type": "code",
   "execution_count": 78,
   "metadata": {},
   "outputs": [
    {
     "data": {
      "image/png": "[encoded data removed]",
      "text/plain": [
       "<Figure size 432x288 with 1 Axes>"
      ]
     },
     "metadata": {
      "needs_background": "light"
     },
     "output_type": "display_data"
    }
   ],
   "source": [
    "#draw PCA 2D result\n",
    "draw_PCA(X[:,0],X[:,1])"
   ]
  },
  {
   "cell_type": "markdown",
   "metadata": {},
   "source": [
    "# Cluster"
   ]
  },
  {
   "cell_type": "code",
   "execution_count": 79,
   "metadata": {},
   "outputs": [],
   "source": [
    "from sklearn.cluster import KMeans\n",
    "from sklearn import preprocessing\n",
    "from sklearn.metrics import silhouette_score"
   ]
  },
  {
   "cell_type": "code",
   "execution_count": 214,
   "metadata": {},
   "outputs": [],
   "source": [
    "maxClusters = 20\n",
    "sse = []\n",
    "for nClusters in range(2,maxClusters):\n",
    "    kmeans = KMeans(n_clusters=nClusters, random_state=0).fit(PCA)\n",
    "    sse.append(kmeans.inertia_)"
   ]
  },
  {
   "cell_type": "code",
   "execution_count": 215,
   "metadata": {},
   "outputs": [
    {
     "name": "stdout",
     "output_type": "stream",
     "text": [
      "[37031.43371069172, 35956.168115245564, 35229.628025973965, 34264.68203575849, 33456.53824097693, 32705.988232614516, 31425.74578896031, 30856.595616418217, 30411.139675915598, 29607.97492616237, 29151.982640460606, 28516.554052856667, 27896.65831905923, 27370.67945526555, 26667.150915736238, 26072.211879791823, 25435.46822530406, 24583.90720093296]\n"
     ]
    }
   ],
   "source": [
    "print(sse)"
   ]
  },
  {
   "cell_type": "code",
   "execution_count": 216,
   "metadata": {},
   "outputs": [
    {
     "data": {
      "text/plain": [
       "[<matplotlib.lines.Line2D at 0x1a302ced9c8>]"
      ]
     },
     "execution_count": 216,
     "metadata": {},
     "output_type": "execute_result"
    },
    {
     "data": {
      "image/png": "[encoded data removed]",
      "text/plain": [
       "<Figure size 432x288 with 1 Axes>"
      ]
     },
     "metadata": {
      "needs_background": "light"
     },
     "output_type": "display_data"
    }
   ],
   "source": [
    "plt.plot(range(2,maxClusters),sse)"
   ]
  },
  {
   "cell_type": "code",
   "execution_count": 217,
   "metadata": {},
   "outputs": [],
   "source": [
    "#find the best cluster_num\n",
    "silh = []\n",
    "for nClusters in range(2,maxClusters):\n",
    "    kmeans = KMeans(n_clusters=nClusters, random_state=0).fit(PCA)\n",
    "    silhouette_avg = silhouette_score(PCA_feature, kmeans.labels_)\n",
    "    silh.append(silhouette_avg)"
   ]
  },
  {
   "cell_type": "code",
   "execution_count": 218,
   "metadata": {},
   "outputs": [
    {
     "data": {
      "text/plain": [
       "[<matplotlib.lines.Line2D at 0x1a302d73288>]"
      ]
     },
     "execution_count": 218,
     "metadata": {},
     "output_type": "execute_result"
    },
    {
     "data": {
      "image/png": "[encoded data removed]",
      "text/plain": [
       "<Figure size 432x288 with 1 Axes>"
      ]
     },
     "metadata": {
      "needs_background": "light"
     },
     "output_type": "display_data"
    }
   ],
   "source": [
    "plt.plot(range(2,maxClusters),silh)"
   ]
  },
  {
   "cell_type": "code",
   "execution_count": 106,
   "metadata": {},
   "outputs": [
    {
     "name": "stdout",
     "output_type": "stream",
     "text": [
      "[0.4067211320637098, 0.46044924364579726, 0.39207330188132, 0.3586411421643718, 0.3622601272716357, 0.36529653435779336, 0.34807530972130124, 0.3734970104558112, 0.3676057114190038, 0.3645914806288033, 0.37971032844807595, 0.3849247758145708, 0.4017267244803742, 0.40548576295809774, 0.3951707997800988, 0.40624620607512674, 0.40957630018926106, 0.4019111009544741]\n"
     ]
    }
   ],
   "source": [
    "print (silh)"
   ]
  },
  {
   "cell_type": "code",
   "execution_count": 219,
   "metadata": {},
   "outputs": [],
   "source": [
    "kmeans = KMeans(n_clusters=15, random_state=0).fit(PCA_feature1)"
   ]
  },
  {
   "cell_type": "code",
   "execution_count": 220,
   "metadata": {},
   "outputs": [],
   "source": [
    "#use kmeans.predict to define \"cluster\"\n",
    "kmeans_per = kmeans.predict(PCA_feature1)"
   ]
  },
  {
   "cell_type": "code",
   "execution_count": 221,
   "metadata": {},
   "outputs": [],
   "source": [
    "df_PCA = pd.DataFrame(PCA_feature1)"
   ]
  },
  {
   "cell_type": "code",
   "execution_count": 222,
   "metadata": {},
   "outputs": [],
   "source": [
    "#add kmeans.predict into PCA_result\n",
    "df_PCA['cluster'] = kmeans_per"
   ]
  },
  {
   "cell_type": "code",
   "execution_count": 223,
   "metadata": {},
   "outputs": [
    {
     "data": {
      "text/html": [
       "<div>\n",
       "<style scoped>\n",
       "    .dataframe tbody tr th:only-of-type {\n",
       "        vertical-align: middle;\n",
       "    }\n",
       "\n",
       "    .dataframe tbody tr th {\n",
       "        vertical-align: top;\n",
       "    }\n",
       "\n",
       "    .dataframe thead th {\n",
       "        text-align: right;\n",
       "    }\n",
       "</style>\n",
       "<table border=\"1\" class=\"dataframe\">\n",
       "  <thead>\n",
       "    <tr style=\"text-align: right;\">\n",
       "      <th></th>\n",
       "      <th>0</th>\n",
       "      <th>1</th>\n",
       "      <th>2</th>\n",
       "      <th>3</th>\n",
       "      <th>4</th>\n",
       "      <th>cluster</th>\n",
       "    </tr>\n",
       "  </thead>\n",
       "  <tbody>\n",
       "    <tr>\n",
       "      <th>0</th>\n",
       "      <td>3.067902</td>\n",
       "      <td>-5.814164</td>\n",
       "      <td>-1.154487</td>\n",
       "      <td>-0.858704</td>\n",
       "      <td>2.191013</td>\n",
       "      <td>0</td>\n",
       "    </tr>\n",
       "    <tr>\n",
       "      <th>1</th>\n",
       "      <td>0.110119</td>\n",
       "      <td>5.667564</td>\n",
       "      <td>8.699337</td>\n",
       "      <td>-0.317789</td>\n",
       "      <td>-5.939190</td>\n",
       "      <td>10</td>\n",
       "    </tr>\n",
       "    <tr>\n",
       "      <th>2</th>\n",
       "      <td>2.111905</td>\n",
       "      <td>-2.444162</td>\n",
       "      <td>5.630689</td>\n",
       "      <td>-5.553731</td>\n",
       "      <td>-7.682892</td>\n",
       "      <td>6</td>\n",
       "    </tr>\n",
       "    <tr>\n",
       "      <th>3</th>\n",
       "      <td>11.394363</td>\n",
       "      <td>6.782069</td>\n",
       "      <td>5.532215</td>\n",
       "      <td>-9.818502</td>\n",
       "      <td>4.027806</td>\n",
       "      <td>3</td>\n",
       "    </tr>\n",
       "    <tr>\n",
       "      <th>4</th>\n",
       "      <td>7.839433</td>\n",
       "      <td>0.323029</td>\n",
       "      <td>3.924113</td>\n",
       "      <td>-5.920509</td>\n",
       "      <td>0.959175</td>\n",
       "      <td>3</td>\n",
       "    </tr>\n",
       "  </tbody>\n",
       "</table>\n",
       "</div>"
      ],
      "text/plain": [
       "           0         1         2         3         4  cluster\n",
       "0   3.067902 -5.814164 -1.154487 -0.858704  2.191013        0\n",
       "1   0.110119  5.667564  8.699337 -0.317789 -5.939190       10\n",
       "2   2.111905 -2.444162  5.630689 -5.553731 -7.682892        6\n",
       "3  11.394363  6.782069  5.532215 -9.818502  4.027806        3\n",
       "4   7.839433  0.323029  3.924113 -5.920509  0.959175        3"
      ]
     },
     "execution_count": 223,
     "metadata": {},
     "output_type": "execute_result"
    }
   ],
   "source": [
    "df_PCA.head()"
   ]
  },
  {
   "cell_type": "code",
   "execution_count": 224,
   "metadata": {},
   "outputs": [
    {
     "data": {
      "text/plain": [
       "<matplotlib.collections.PathCollection at 0x1a302d3ad48>"
      ]
     },
     "execution_count": 224,
     "metadata": {},
     "output_type": "execute_result"
    },
    {
     "data": {
      "image/png": "[encoded data removed]",
      "text/plain": [
       "<Figure size 432x288 with 1 Axes>"
      ]
     },
     "metadata": {
      "needs_background": "light"
     },
     "output_type": "display_data"
    }
   ],
   "source": [
    "#show the Cluster'result \n",
    "plt.scatter(df_PCA[0],df_PCA[1] ,c= df_PCA['cluster'])"
   ]
  },
  {
   "cell_type": "code",
   "execution_count": null,
   "metadata": {},
   "outputs": [],
   "source": []
  }
 ],
 "metadata": {
  "kernelspec": {
   "display_name": "Python 3",
   "language": "python",
   "name": "python3"
  },
  "language_info": {
   "codemirror_mode": {
    "name": "ipython",
    "version": 3
   },
   "file_extension": ".py",
   "mimetype": "text/x-python",
   "name": "python",
   "nbconvert_exporter": "python",
   "pygments_lexer": "ipython3",
   "version": "3.7.4"
  }
 },
 "nbformat": 4,
 "nbformat_minor": 4
}
